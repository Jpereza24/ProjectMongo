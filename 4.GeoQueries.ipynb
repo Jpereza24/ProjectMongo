{
 "cells": [
  {
   "cell_type": "code",
   "execution_count": 170,
   "metadata": {},
   "outputs": [],
   "source": [
    "from pymongo import MongoClient\n",
    "import pandas as pd\n",
    "from src import Mongo_connection as mc #function in src\n",
    "from src import geoqueries as gq #function in src\n",
    "from src import count_gq as cg #function in src"
   ]
  },
  {
   "cell_type": "code",
   "execution_count": 166,
   "metadata": {},
   "outputs": [],
   "source": [
    "db, star = mc.connectCollection('datlab','starbucks')\n",
    "db, sch = mc.connectCollection('datlab', 'schools')\n",
    "db, air = mc.connectCollection('datlab', 'airports')\n",
    "db, night = mc.connectCollection('datlab', 'nightclubs')\n",
    "db, veg = mc.connectCollection('datlab', 'vegan_restaurants')\n",
    "db, kinder = mc.connectCollection('datlab', 'kindergarten')"
   ]
  },
  {
   "cell_type": "code",
   "execution_count": 144,
   "metadata": {},
   "outputs": [],
   "source": [
    "db, coll = mc.connectCollection('datlab','companies_seattle')"
   ]
  },
  {
   "cell_type": "code",
   "execution_count": 145,
   "metadata": {},
   "outputs": [],
   "source": [
    "q = list(coll.find())"
   ]
  },
  {
   "cell_type": "code",
   "execution_count": 146,
   "metadata": {},
   "outputs": [],
   "source": [
    "seattle = pd.DataFrame(q)"
   ]
  },
  {
   "cell_type": "code",
   "execution_count": 147,
   "metadata": {},
   "outputs": [],
   "source": [
    "#Here I have splitted the location column in two columns for getting the coordinates in order to get the geo_queries\n",
    "seattle = pd.concat([seattle.drop(['location','latitude'], axis=1), seattle['location'].apply(pd.Series)], axis=1)"
   ]
  },
  {
   "cell_type": "code",
   "execution_count": 148,
   "metadata": {},
   "outputs": [],
   "source": [
    "listacoords = list(seattle['coordinates'])"
   ]
  },
  {
   "cell_type": "code",
   "execution_count": 150,
   "metadata": {},
   "outputs": [],
   "source": [
    "sb250, sb500 = cg.count(star, listacoords)\n",
    "air250, air500 = cg.count(air, listacoords)\n",
    "sch250, sch500 = cg.count(sch, listacoords)\n",
    "ni250, ni500 = cg.count(night, listacoords)\n",
    "veg250, veg500 = cg.count(veg, listacoords)\n",
    "kin250, kin500 = cg.count(kinder, listacoords)"
   ]
  },
  {
   "cell_type": "code",
   "execution_count": 151,
   "metadata": {},
   "outputs": [
    {
     "data": {
      "text/plain": [
       "[1, 0, 0, 5, 1, 0, 1, 5, 1, 0, 5, 1, 0, 1, 0, 0, 3, 3, 0, 0, 0]"
      ]
     },
     "execution_count": 151,
     "metadata": {},
     "output_type": "execute_result"
    }
   ],
   "source": [
    "sb250"
   ]
  },
  {
   "cell_type": "code",
   "execution_count": 152,
   "metadata": {},
   "outputs": [],
   "source": [
    "facilities = pd.DataFrame(list(zip(sb250,air250,sch250,ni250,veg250,kin250)), columns =[\"Starbucks\",\"Airports\", \"Schools\",\"Nightclubs\",\"Veganrests\",\"Kindergarten\"])"
   ]
  },
  {
   "cell_type": "code",
   "execution_count": 153,
   "metadata": {},
   "outputs": [],
   "source": [
    "#At this point I rank the companies by the quantity of facilities they have around 250 and 500 metres. I only get the companies with more than 10 facilities around\n",
    "seattle =pd.concat([seattle, facilities], axis=1)"
   ]
  },
  {
   "cell_type": "code",
   "execution_count": 154,
   "metadata": {},
   "outputs": [],
   "source": [
    "seattle['250'] = seattle['Starbucks'] + seattle['Airports'] + seattle['Schools'] + seattle['Nightclubs'] + seattle['Veganrests'] + seattle['Kindergarten']"
   ]
  },
  {
   "cell_type": "code",
   "execution_count": 155,
   "metadata": {},
   "outputs": [],
   "source": [
    "coldelete = ['Starbucks','Airports','Schools','Nightclubs','Veganrests','Kindergarten','_id','','description','city','type']\n",
    "seattle = seattle.drop(coldelete, axis=1)"
   ]
  },
  {
   "cell_type": "code",
   "execution_count": 156,
   "metadata": {},
   "outputs": [],
   "source": [
    "fac500 = pd.DataFrame(list(zip(sb500,air500,sch500,ni500,veg500,kin500)), columns=['Starbucks','Airports','Schools','Nightclubs','Veganrests','Kindergarten'])\n",
    "seattle = pd.concat([seattle,fac500],axis=1)"
   ]
  },
  {
   "cell_type": "code",
   "execution_count": 158,
   "metadata": {},
   "outputs": [],
   "source": [
    "seattle['500'] = seattle['Starbucks'] + seattle['Airports'] + seattle['Schools'] + seattle['Nightclubs'] + seattle['Veganrests'] + seattle['Kindergarten']"
   ]
  },
  {
   "cell_type": "code",
   "execution_count": 159,
   "metadata": {},
   "outputs": [],
   "source": [
    "coldelete2 = ['Starbucks','Airports','Schools','Nightclubs','Veganrests','Kindergarten']\n",
    "seattle = seattle.drop(coldelete2, axis=1)"
   ]
  },
  {
   "cell_type": "code",
   "execution_count": 161,
   "metadata": {},
   "outputs": [],
   "source": [
    "seattle['rank'] = seattle['250'] + seattle['500']"
   ]
  },
  {
   "cell_type": "code",
   "execution_count": 162,
   "metadata": {},
   "outputs": [],
   "source": [
    "seattle = seattle.loc[(seattle['rank']>10)]"
   ]
  },
  {
   "cell_type": "code",
   "execution_count": 164,
   "metadata": {},
   "outputs": [
    {
     "data": {
      "text/html": [
       "<div>\n",
       "<style scoped>\n",
       "    .dataframe tbody tr th:only-of-type {\n",
       "        vertical-align: middle;\n",
       "    }\n",
       "\n",
       "    .dataframe tbody tr th {\n",
       "        vertical-align: top;\n",
       "    }\n",
       "\n",
       "    .dataframe thead th {\n",
       "        text-align: right;\n",
       "    }\n",
       "</style>\n",
       "<table border=\"1\" class=\"dataframe\">\n",
       "  <thead>\n",
       "    <tr style=\"text-align: right;\">\n",
       "      <th></th>\n",
       "      <th>name</th>\n",
       "      <th>category_code</th>\n",
       "      <th>number_of_employees</th>\n",
       "      <th>founded_year</th>\n",
       "      <th>total_money_raised</th>\n",
       "      <th>coordinates</th>\n",
       "      <th>250</th>\n",
       "      <th>500</th>\n",
       "      <th>rank</th>\n",
       "    </tr>\n",
       "  </thead>\n",
       "  <tbody>\n",
       "    <tr>\n",
       "      <th>7</th>\n",
       "      <td>Optify</td>\n",
       "      <td>software</td>\n",
       "      <td>45</td>\n",
       "      <td>2008</td>\n",
       "      <td>$10.8M</td>\n",
       "      <td>[-122.333359, 47.603364]</td>\n",
       "      <td>16</td>\n",
       "      <td>7.5</td>\n",
       "      <td>23.5</td>\n",
       "    </tr>\n",
       "    <tr>\n",
       "      <th>3</th>\n",
       "      <td>Implied Solutions</td>\n",
       "      <td>software</td>\n",
       "      <td>1</td>\n",
       "      <td>2008</td>\n",
       "      <td>$0</td>\n",
       "      <td>[-122.3328401, 47.6042663]</td>\n",
       "      <td>14</td>\n",
       "      <td>7.5</td>\n",
       "      <td>21.5</td>\n",
       "    </tr>\n",
       "    <tr>\n",
       "      <th>17</th>\n",
       "      <td>Decho</td>\n",
       "      <td>web</td>\n",
       "      <td>150</td>\n",
       "      <td>2008</td>\n",
       "      <td>$0</td>\n",
       "      <td>[-122.3326145, 47.6024156]</td>\n",
       "      <td>15</td>\n",
       "      <td>6.5</td>\n",
       "      <td>21.5</td>\n",
       "    </tr>\n",
       "    <tr>\n",
       "      <th>10</th>\n",
       "      <td>Z2Live</td>\n",
       "      <td>games_video</td>\n",
       "      <td>130</td>\n",
       "      <td>2009</td>\n",
       "      <td>$6.5M</td>\n",
       "      <td>[-122.3399782, 47.6103008]</td>\n",
       "      <td>14</td>\n",
       "      <td>7.0</td>\n",
       "      <td>21.0</td>\n",
       "    </tr>\n",
       "    <tr>\n",
       "      <th>6</th>\n",
       "      <td>L4 Mobile</td>\n",
       "      <td>mobile</td>\n",
       "      <td>25</td>\n",
       "      <td>2008</td>\n",
       "      <td>$4.8M</td>\n",
       "      <td>[-122.2049192, 47.676762]</td>\n",
       "      <td>18</td>\n",
       "      <td>2.0</td>\n",
       "      <td>20.0</td>\n",
       "    </tr>\n",
       "    <tr>\n",
       "      <th>16</th>\n",
       "      <td>GroupieGuide</td>\n",
       "      <td>web</td>\n",
       "      <td>4</td>\n",
       "      <td>2008</td>\n",
       "      <td>$0</td>\n",
       "      <td>[-122.3374372, 47.6042792]</td>\n",
       "      <td>8</td>\n",
       "      <td>11.0</td>\n",
       "      <td>19.0</td>\n",
       "    </tr>\n",
       "    <tr>\n",
       "      <th>8</th>\n",
       "      <td>SlideME</td>\n",
       "      <td>mobile</td>\n",
       "      <td></td>\n",
       "      <td>2008</td>\n",
       "      <td>$0</td>\n",
       "      <td>[-122.3343564, 47.5992095]</td>\n",
       "      <td>5</td>\n",
       "      <td>5.5</td>\n",
       "      <td>10.5</td>\n",
       "    </tr>\n",
       "  </tbody>\n",
       "</table>\n",
       "</div>"
      ],
      "text/plain": [
       "                 name category_code number_of_employees  founded_year  \\\n",
       "7              Optify      software                  45          2008   \n",
       "3   Implied Solutions      software                   1          2008   \n",
       "17              Decho           web                 150          2008   \n",
       "10             Z2Live   games_video                 130          2009   \n",
       "6           L4 Mobile        mobile                  25          2008   \n",
       "16       GroupieGuide           web                   4          2008   \n",
       "8             SlideME        mobile                              2008   \n",
       "\n",
       "   total_money_raised                 coordinates  250   500  rank  \n",
       "7              $10.8M    [-122.333359, 47.603364]   16   7.5  23.5  \n",
       "3                  $0  [-122.3328401, 47.6042663]   14   7.5  21.5  \n",
       "17                 $0  [-122.3326145, 47.6024156]   15   6.5  21.5  \n",
       "10              $6.5M  [-122.3399782, 47.6103008]   14   7.0  21.0  \n",
       "6               $4.8M   [-122.2049192, 47.676762]   18   2.0  20.0  \n",
       "16                 $0  [-122.3374372, 47.6042792]    8  11.0  19.0  \n",
       "8                  $0  [-122.3343564, 47.5992095]    5   5.5  10.5  "
      ]
     },
     "execution_count": 164,
     "metadata": {},
     "output_type": "execute_result"
    }
   ],
   "source": [
    "seattle.sort_values(by='rank', ascending=False)"
   ]
  }
 ],
 "metadata": {
  "kernelspec": {
   "display_name": "Python 3",
   "language": "python",
   "name": "python3"
  },
  "language_info": {
   "codemirror_mode": {
    "name": "ipython",
    "version": 3
   },
   "file_extension": ".py",
   "mimetype": "text/x-python",
   "name": "python",
   "nbconvert_exporter": "python",
   "pygments_lexer": "ipython3",
   "version": "3.7.5rc1"
  }
 },
 "nbformat": 4,
 "nbformat_minor": 2
}
