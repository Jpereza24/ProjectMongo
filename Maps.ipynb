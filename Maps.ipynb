{
 "cells": [
  {
   "cell_type": "code",
   "execution_count": 66,
   "metadata": {},
   "outputs": [],
   "source": [
    "from pymongo import MongoClient\n",
    "import pandas as pd\n",
    "import folium\n",
    "from src import Mongo_connection as mc\n",
    "from src import geoqueries as ge\n",
    "from src import count_gq as cg"
   ]
  },
  {
   "cell_type": "code",
   "execution_count": 67,
   "metadata": {},
   "outputs": [],
   "source": [
    "db, companies = mc.connectCollection('datlab','companies_seattle')\n",
    "db, starbucks = mc.connectCollection('datlab', 'starbucks')\n",
    "db, airplanes = mc.connectCollection('datlab', 'airports')\n",
    "db, schools = mc.connectCollection('datlab', 'schools')\n",
    "db, nightclubs = mc.connectCollection('datlab', 'nightclubs')\n",
    "db, vegan = mc. connectCollection('datlab', 'vegan_restaurants')\n",
    "db, kinder = mc.connectCollection('datlab', 'kindergarten')"
   ]
  },
  {
   "cell_type": "code",
   "execution_count": 68,
   "metadata": {},
   "outputs": [],
   "source": [
    "optify = list(companies.find({\"name\":\"Optify\"}))"
   ]
  },
  {
   "cell_type": "code",
   "execution_count": 69,
   "metadata": {},
   "outputs": [],
   "source": [
    "coordinates = optify[0]['location']['coordinates']"
   ]
  },
  {
   "cell_type": "code",
   "execution_count": 52,
   "metadata": {},
   "outputs": [],
   "source": [
    "def geoQuery1(collection,coordinates,maxdistance,mindistance):\n",
    "    lista = collection.find(\n",
    "        {\"location\":\n",
    "         {\"$near\":\n",
    "          {\"$geometry\":\n",
    "           {\"type\":\"Point\",\n",
    "            \"coordinates\":coordinates\n",
    "           },\n",
    "           \"$maxDistance\":maxdistance,\n",
    "            \"$minDistance\":mindistance\n",
    "          }\n",
    "         }\n",
    "        }\n",
    "    )\n",
    "    return list(lista)"
   ]
  },
  {
   "cell_type": "code",
   "execution_count": 70,
   "metadata": {},
   "outputs": [],
   "source": [
    "nearstarb = ge.geoQuery(starbucks,coordinates,250,0)\n",
    "nearair = ge.geoQuery(airplanes,coordinates,250,0)\n",
    "nearschools = ge.geoQuery(schools,coordinates,250,0)\n",
    "nearnight = ge.geoQuery(nightclubs,coordinates,250,0)\n",
    "nearvegan = ge.geoQuery(vegan,coordinates,250,0)\n",
    "nearkinder = ge.geoQuery(kinder,coordinates,250,0)"
   ]
  },
  {
   "cell_type": "code",
   "execution_count": 71,
   "metadata": {},
   "outputs": [
    {
     "data": {
      "text/plain": [
       "5"
      ]
     },
     "execution_count": 71,
     "metadata": {},
     "output_type": "execute_result"
    }
   ],
   "source": [
    "nearstarb"
   ]
  },
  {
   "cell_type": "code",
   "execution_count": 9,
   "metadata": {},
   "outputs": [],
   "source": [
    "map1=folium.Map(location=[47.603364,-122.333359], zoom_start=12)"
   ]
  },
  {
   "cell_type": "code",
   "execution_count": 12,
   "metadata": {},
   "outputs": [],
   "source": [
    "def mapFolium(mapp,query,icon,color):  \n",
    "    for company in query:\n",
    "        folium.Marker(company['location']['coordinates'][::-1],\n",
    "                        radius=2,\n",
    "                        icon=folium.Icon(icon=icon,color=color), \n",
    "                       ).add_to(mapp)\n",
    "    return mapp"
   ]
  },
  {
   "cell_type": "code",
   "execution_count": 29,
   "metadata": {},
   "outputs": [
    {
     "data": {
      "text/html": [
       "<div style=\"width:100%;\"><div style=\"position:relative;width:100%;height:0;padding-bottom:60%;\"><iframe src=\"data:text/html;charset=utf-8;base64,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\" style=\"position:absolute;width:100%;height:100%;left:0;top:0;border:none !important;\" allowfullscreen webkitallowfullscreen mozallowfullscreen></iframe></div></div>"
      ],
      "text/plain": [
       "<folium.folium.Map at 0x7f6e6edad250>"
      ]
     },
     "execution_count": 29,
     "metadata": {},
     "output_type": "execute_result"
    }
   ],
   "source": [
    "mapFolium(map1,optify,'euro','black')"
   ]
  },
  {
   "cell_type": "code",
   "execution_count": null,
   "metadata": {},
   "outputs": [],
   "source": []
  },
  {
   "cell_type": "code",
   "execution_count": null,
   "metadata": {},
   "outputs": [],
   "source": []
  },
  {
   "cell_type": "code",
   "execution_count": null,
   "metadata": {},
   "outputs": [],
   "source": []
  },
  {
   "cell_type": "code",
   "execution_count": null,
   "metadata": {},
   "outputs": [],
   "source": []
  }
 ],
 "metadata": {
  "kernelspec": {
   "display_name": "Python 3",
   "language": "python",
   "name": "python3"
  },
  "language_info": {
   "codemirror_mode": {
    "name": "ipython",
    "version": 3
   },
   "file_extension": ".py",
   "mimetype": "text/x-python",
   "name": "python",
   "nbconvert_exporter": "python",
   "pygments_lexer": "ipython3",
   "version": "3.7.5rc1"
  }
 },
 "nbformat": 4,
 "nbformat_minor": 2
}
