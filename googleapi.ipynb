{
 "cells": [
  {
   "cell_type": "code",
   "execution_count": 1,
   "metadata": {},
   "outputs": [
    {
     "data": {
      "text/plain": [
       "True"
      ]
     },
     "execution_count": 1,
     "metadata": {},
     "output_type": "execute_result"
    }
   ],
   "source": [
    "import googlemaps\n",
    "from datetime import datetime\n",
    "import os\n",
    "import folium\n",
    "from dotenv import load_dotenv\n",
    "load_dotenv()"
   ]
  },
  {
   "cell_type": "code",
   "execution_count": 2,
   "metadata": {},
   "outputs": [],
   "source": [
    "gmaps = googlemaps.Client(key=os.getenv('key'))"
   ]
  },
  {
   "cell_type": "code",
   "execution_count": 3,
   "metadata": {},
   "outputs": [],
   "source": [
    "kindergarten = gmaps.places('Kindergarten Seattle')\n",
    "starbucks = gmaps.places('starbucks Seattle')\n",
    "nightclubs = gmaps.places('nightclub Seattle')\n",
    "airports = gmaps.places('airports Seattle')"
   ]
  },
  {
   "cell_type": "code",
   "execution_count": 10,
   "metadata": {},
   "outputs": [
    {
     "data": {
      "text/plain": [
       "[{'name': 'Q Nightclub',\n",
       "  'address': '1426 Broadway, Seattle, WA 98122, United States',\n",
       "  'loc': {'type': 'Point', 'coordinates': [-122.3203489, 47.61376629999999]}},\n",
       " {'name': 'Trinity',\n",
       "  'address': '107 Occidental Ave S, Seattle, WA 98104, United States',\n",
       "  'loc': {'type': 'Point', 'coordinates': [-122.3332959, 47.6015129]}},\n",
       " {'name': 'Neighbours Nightclub and Lounge',\n",
       "  'address': '1509 Broadway, Seattle, WA 98122, United States',\n",
       "  'loc': {'type': 'Point', 'coordinates': [-122.3211896, 47.6144018]}},\n",
       " {'name': 'The Baltic Room',\n",
       "  'address': '1207 Pine St, Seattle, WA 98101, United States',\n",
       "  'loc': {'type': 'Point', 'coordinates': [-122.3283058, 47.6148987]}},\n",
       " {'name': 'STAGE SEATTLE',\n",
       "  'address': '172 S Washington St, Seattle, WA 98104, United States',\n",
       "  'loc': {'type': 'Point', 'coordinates': [-122.3318485, 47.6011073]}},\n",
       " {'name': 'Ora Nightclub',\n",
       "  'address': '2330 1st Ave, Seattle, WA 98121, United States',\n",
       "  'loc': {'type': 'Point', 'coordinates': [-122.347515, 47.6141112]}},\n",
       " {'name': 'The Underground',\n",
       "  'address': '122 S Washington St, Seattle, WA 98104, United States',\n",
       "  'loc': {'type': 'Point', 'coordinates': [-122.3333208, 47.6010565]}},\n",
       " {'name': 'Kremwerk',\n",
       "  'address': '1809 Minor Ave #10, Seattle, WA 98101, United States',\n",
       "  'loc': {'type': 'Point', 'coordinates': [-122.331098, 47.616985]}},\n",
       " {'name': 'The Mercury @ MachineWerks',\n",
       "  'address': '1009 E Union St, Seattle, WA 98122, United States',\n",
       "  'loc': {'type': 'Point', 'coordinates': [-122.3189114, 47.6127055]}},\n",
       " {'name': 'amber',\n",
       "  'address': '2214 1st Ave, Seattle, WA 98121, United States',\n",
       "  'loc': {'type': 'Point', 'coordinates': [-122.3457033, 47.6130548]}},\n",
       " {'name': 'Re-bar',\n",
       "  'address': '1114 Howell St, Seattle, WA 98101, United States',\n",
       "  'loc': {'type': 'Point', 'coordinates': [-122.3310782, 47.6166695]}},\n",
       " {'name': 'Aston Manor',\n",
       "  'address': '2946 1st Ave S, Seattle, WA 98134, United States',\n",
       "  'loc': {'type': 'Point', 'coordinates': [-122.3336934, 47.5762095]}},\n",
       " {'name': 'Capitol Lounge',\n",
       "  'address': '916 E Pike St, Seattle, WA 98122, United States',\n",
       "  'loc': {'type': 'Point', 'coordinates': [-122.3199575, 47.6142162]}},\n",
       " {'name': 'LO-FI Performance Gallery',\n",
       "  'address': '429 Eastlake Ave E, Seattle, WA 98109, United States',\n",
       "  'loc': {'type': 'Point', 'coordinates': [-122.3295306, 47.6229245]}},\n",
       " {'name': 'Club Sur',\n",
       "  'address': '2901 1st Ave S, Seattle, WA 98134, United States',\n",
       "  'loc': {'type': 'Point', 'coordinates': [-122.334701, 47.5775356]}},\n",
       " {'name': 'The Cuff Complex',\n",
       "  'address': '1533 13th Ave, Seattle, WA 98122, United States',\n",
       "  'loc': {'type': 'Point', 'coordinates': [-122.3158456, 47.6150949]}},\n",
       " {'name': 'Club Contour',\n",
       "  'address': '807 1st Ave, Seattle, WA 98104, United States',\n",
       "  'loc': {'type': 'Point', 'coordinates': [-122.3353421, 47.6033866]}},\n",
       " {'name': 'Sur Artino',\n",
       "  'address': '2901 1st Ave S, Seattle, WA 98134, United States',\n",
       "  'loc': {'type': 'Point', 'coordinates': [-122.334701, 47.5775355]}},\n",
       " {'name': 'Monkey Loft',\n",
       "  'address': '2915 1st Ave S, Seattle, WA 98134, United States',\n",
       "  'loc': {'type': 'Point', 'coordinates': [-122.3346493, 47.5771852]}},\n",
       " {'name': 'Cedar Room',\n",
       "  'address': '4912 Leary Ave NW, Seattle, WA 98107, United States',\n",
       "  'loc': {'type': 'Point', 'coordinates': [-122.3792863, 47.6645716]}}]"
      ]
     },
     "execution_count": 10,
     "metadata": {},
     "output_type": "execute_result"
    }
   ],
   "source": [
    "nightclubs"
   ]
  },
  {
   "cell_type": "code",
   "execution_count": 4,
   "metadata": {},
   "outputs": [],
   "source": [
    "def getLocation(result):\n",
    "    location = []\n",
    "    for i in range(len(result['results'])):\n",
    "        latitude = result['results'][i]['geometry']['location']['lat']\n",
    "        longitude = result['results'][i]['geometry']['location']['lng']\n",
    "        name = result['results'][i]['name']\n",
    "        address = result['results'][i]['formatted_address']\n",
    "        loc = {\n",
    "            'name': name,\n",
    "            'address': address,\n",
    "            'loc':{'type':'Point',\n",
    "            'coordinates':[longitude, latitude]\n",
    "        }}\n",
    "        location.append(loc)\n",
    "    return location  "
   ]
  },
  {
   "cell_type": "code",
   "execution_count": 5,
   "metadata": {},
   "outputs": [],
   "source": [
    "kinder = getLocation(kindergarten)\n",
    "starbucks = getLocation(starbucks)\n",
    "nightclubs = getLocation(nightclubs)\n",
    "airports = getLocation(airports)"
   ]
  },
  {
   "cell_type": "code",
   "execution_count": 6,
   "metadata": {},
   "outputs": [],
   "source": [
    "kinder_coords = [k['loc'] for k in kinder]\n",
    "starb_coords = [s['loc'] for s in starbucks]\n",
    "night_coords = [n['loc'] for n in nightclubs]\n",
    "air_coords = [a['loc'] for a in airports]"
   ]
  },
  {
   "cell_type": "code",
   "execution_count": 7,
   "metadata": {},
   "outputs": [],
   "source": [
    "mapp = folium.Map(location=[47.608013,-122.335167], zoom_start=12)"
   ]
  },
  {
   "cell_type": "code",
   "execution_count": 8,
   "metadata": {},
   "outputs": [],
   "source": [
    "for k in kinder_coords:\n",
    "    folium.Marker(k['coordinates'][::-1],\n",
    "                    radius=2,\n",
    "                    icon=folium.Icon(icon='cloud',color='pink'), \n",
    "                    ).add_to(mapp)\n",
    "for s in starb_coords:\n",
    "    folium.Marker(s['coordinates'][::-1],\n",
    "                    radius=2,\n",
    "                    icon=folium.Icon(icon='coffee-togo',color='green'), \n",
    "                    ).add_to(mapp)\n",
    "for n in night_coords:\n",
    "    folium.Marker(s['coordinates'][::-1],\n",
    "                    radius=2,\n",
    "                    icon=folium.Icon(icon='cup',color='blue'), \n",
    "                    ).add_to(mapp)"
   ]
  },
  {
   "cell_type": "code",
   "execution_count": null,
   "metadata": {
    "scrolled": false
   },
   "outputs": [],
   "source": []
  },
  {
   "cell_type": "code",
   "execution_count": null,
   "metadata": {},
   "outputs": [],
   "source": []
  },
  {
   "cell_type": "code",
   "execution_count": null,
   "metadata": {},
   "outputs": [],
   "source": []
  },
  {
   "cell_type": "code",
   "execution_count": null,
   "metadata": {},
   "outputs": [],
   "source": []
  },
  {
   "cell_type": "code",
   "execution_count": null,
   "metadata": {},
   "outputs": [],
   "source": []
  }
 ],
 "metadata": {
  "kernelspec": {
   "display_name": "Python 3",
   "language": "python",
   "name": "python3"
  },
  "language_info": {
   "codemirror_mode": {
    "name": "ipython",
    "version": 3
   },
   "file_extension": ".py",
   "mimetype": "text/x-python",
   "name": "python",
   "nbconvert_exporter": "python",
   "pygments_lexer": "ipython3",
   "version": "3.7.5rc1"
  }
 },
 "nbformat": 4,
 "nbformat_minor": 2
}
