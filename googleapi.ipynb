{
 "cells": [
  {
   "cell_type": "code",
   "execution_count": 3,
   "metadata": {},
   "outputs": [
    {
     "data": {
      "text/plain": [
       "True"
      ]
     },
     "execution_count": 3,
     "metadata": {},
     "output_type": "execute_result"
    }
   ],
   "source": [
    "import googlemaps\n",
    "from pymongo import MongoClient\n",
    "from datetime import datetime\n",
    "import os\n",
    "import requests\n",
    "import json\n",
    "import time\n",
    "import pandas as pd\n",
    "import folium\n",
    "from dotenv import load_dotenv\n",
    "load_dotenv()"
   ]
  },
  {
   "cell_type": "code",
   "execution_count": 106,
   "metadata": {},
   "outputs": [],
   "source": [
    "def searchPlaces(query, location):\n",
    "    API_key = os.getenv('key')\n",
    "    endpoint_url = \"https://maps.googleapis.com/maps/api/place/textsearch/json\"\n",
    "    places = []\n",
    "    params = {\n",
    "        'query': query,\n",
    "        'location': location,\n",
    "        'radius': 0.25,\n",
    "        'key': API_key\n",
    "    }\n",
    "    res = requests.get(endpoint_url, params = params)\n",
    "    results =  json.loads(res.content)\n",
    "    places.extend(results['results'])\n",
    "    time.sleep(2)\n",
    "    while \"next_page_token\" in results:\n",
    "        params['pagetoken'] = results['next_page_token'],\n",
    "        res = requests.get(endpoint_url, params = params)\n",
    "        results = json.loads(res.content)\n",
    "        places.extend(results['results'])\n",
    "        time.sleep(2)\n",
    "    return places"
   ]
  },
  {
   "cell_type": "code",
   "execution_count": 44,
   "metadata": {},
   "outputs": [],
   "source": [
    "def getLocation(result):\n",
    "    location = []\n",
    "    for i in range(len(result)):\n",
    "        latitude = result[i]['geometry']['location']['lat']\n",
    "        longitude = result[i]['geometry']['location']['lng']\n",
    "        name = result[i]['name']\n",
    "        address = result[i]['formatted_address']\n",
    "        loc = {\n",
    "            'name': name,\n",
    "            'address': address,\n",
    "            'longitude': longitude,\n",
    "            'latitude': latitude\n",
    "        }\n",
    "        location.append(loc)\n",
    "    return location  "
   ]
  },
  {
   "cell_type": "markdown",
   "metadata": {},
   "source": [
    "#Starbucks"
   ]
  },
  {
   "cell_type": "code",
   "execution_count": 62,
   "metadata": {},
   "outputs": [],
   "source": [
    "starbucks1 = getLocation(searchPlaces('starbucks','37.566879,-122.323895'))\n",
    "starbucks2 = getLocation(searchPlaces('starbucks','47.6103008,-122.3399782'))\n",
    "starbucks3 = getLocation(searchPlaces('starbucks','38.960381,-77.084811'))"
   ]
  },
  {
   "cell_type": "code",
   "execution_count": 68,
   "metadata": {},
   "outputs": [],
   "source": [
    "stardf1 = pd.DataFrame(starbucks1)\n",
    "stardf2 = pd.DataFrame(starbucks2)\n",
    "stardf3 = pd.DataFrame(starbucks3)"
   ]
  },
  {
   "cell_type": "code",
   "execution_count": 73,
   "metadata": {},
   "outputs": [],
   "source": [
    "starbucks = pd.concat([stardf1,stardf2,stardf3])\n",
    "starbucks.to_csv('starbucks.csv')"
   ]
  },
  {
   "cell_type": "code",
   "execution_count": 76,
   "metadata": {},
   "outputs": [],
   "source": [
    "myclient = MongoClient(\"mongodb://localhost/\")\n",
    "mydb = myclient[\"datlab\"]\n",
    "mycol = mydb[\"starbucks\"]"
   ]
  },
  {
   "cell_type": "code",
   "execution_count": 4,
   "metadata": {},
   "outputs": [],
   "source": [
    "def connectCollection(database, collection):\n",
    "    client = MongoClient()\n",
    "    db = client[database]\n",
    "    coll = db[collection]\n",
    "    return db, coll"
   ]
  },
  {
   "cell_type": "code",
   "execution_count": 5,
   "metadata": {},
   "outputs": [],
   "source": [
    "db, star = connectCollection('datlab','starbucks')"
   ]
  },
  {
   "cell_type": "code",
   "execution_count": 7,
   "metadata": {},
   "outputs": [],
   "source": [
    "queryst = list(star.find())"
   ]
  },
  {
   "cell_type": "code",
   "execution_count": 8,
   "metadata": {},
   "outputs": [],
   "source": [
    "def getLocation(office):\n",
    "    longitude = office['longitude']\n",
    "    latitude = office['latitude']\n",
    "    loc = {\n",
    "        'type':'Point',\n",
    "        'coordinates':[longitude, latitude]\n",
    "    }\n",
    "    return loc"
   ]
  },
  {
   "cell_type": "code",
   "execution_count": 11,
   "metadata": {},
   "outputs": [],
   "source": [
    "for office in queryst:\n",
    "    value = {\"$set\": {'location':getLocation(office)}}\n",
    "    star.update_one(office, value)"
   ]
  },
  {
   "cell_type": "markdown",
   "metadata": {},
   "source": [
    "#elementary schools"
   ]
  },
  {
   "cell_type": "code",
   "execution_count": 107,
   "metadata": {},
   "outputs": [],
   "source": [
    "schools1 = getLocation(searchPlaces('elementary schools','37.566879,-122.323895'))\n",
    "schools2 = getLocation(searchPlaces('elementary schools','47.6103008,-122.3399782'))\n",
    "schools3 = getLocation(searchPlaces('elementary schools','38.960381,-77.084811'))"
   ]
  },
  {
   "cell_type": "code",
   "execution_count": 82,
   "metadata": {},
   "outputs": [],
   "source": [
    "school1 = pd.DataFrame(schools1)\n",
    "school2 = pd.DataFrame(schools2)\n",
    "school3 = pd.DataFrame(schools3)"
   ]
  },
  {
   "cell_type": "code",
   "execution_count": 84,
   "metadata": {},
   "outputs": [],
   "source": [
    "schools = pd.concat([school1,school2,school3])\n",
    "schools.to_csv('schools.csv')"
   ]
  },
  {
   "cell_type": "code",
   "execution_count": 85,
   "metadata": {
    "scrolled": false
   },
   "outputs": [],
   "source": [
    "myclient = MongoClient(\"mongodb://localhost/\")\n",
    "mydb = myclient[\"datlab\"]\n",
    "mycol = mydb[\"schools\"]"
   ]
  },
  {
   "cell_type": "code",
   "execution_count": 22,
   "metadata": {},
   "outputs": [],
   "source": [
    "def connectCollection(database, collection):\n",
    "    client = MongoClient()\n",
    "    db = client[database]\n",
    "    coll = db[collection]\n",
    "    return db, coll"
   ]
  },
  {
   "cell_type": "code",
   "execution_count": 23,
   "metadata": {},
   "outputs": [],
   "source": [
    "db, school = connectCollection('datlab','schools')"
   ]
  },
  {
   "cell_type": "code",
   "execution_count": 28,
   "metadata": {},
   "outputs": [],
   "source": [
    "querysch = list(school.find())"
   ]
  },
  {
   "cell_type": "code",
   "execution_count": 29,
   "metadata": {},
   "outputs": [],
   "source": [
    "def getLocation(office):\n",
    "    longitude = office['longitude']\n",
    "    latitude = office['latitude']\n",
    "    loc = {\n",
    "        'type':'Point',\n",
    "        'coordinates':[longitude, latitude]\n",
    "    }\n",
    "    return loc"
   ]
  },
  {
   "cell_type": "code",
   "execution_count": 30,
   "metadata": {},
   "outputs": [],
   "source": [
    "for office in querysch:\n",
    "    value = {\"$set\": {'location':getLocation(office)}}\n",
    "    school.update_one(office, value)"
   ]
  },
  {
   "cell_type": "markdown",
   "metadata": {},
   "source": [
    "NIGHTCLUBS"
   ]
  },
  {
   "cell_type": "code",
   "execution_count": 93,
   "metadata": {},
   "outputs": [],
   "source": [
    "clubs1 = getLocation(searchPlaces('night club San Mateo','37.566879,-122.323895'))\n",
    "clubs2 = getLocation(searchPlaces('night club Seattle','47.6103008,-122.3399782'))\n",
    "clubs3 = getLocation(searchPlaces('night club Washington','38.960381,-77.084811'))"
   ]
  },
  {
   "cell_type": "code",
   "execution_count": 95,
   "metadata": {},
   "outputs": [],
   "source": [
    "nightclub1 = pd.DataFrame(clubs1)\n",
    "nightclub2 = pd.DataFrame(clubs2)\n",
    "nightclub3 = pd.DataFrame(clubs3)"
   ]
  },
  {
   "cell_type": "code",
   "execution_count": 97,
   "metadata": {},
   "outputs": [],
   "source": [
    "nightclubs = pd.concat([nightclub1,nightclub2,nightclub3])\n",
    "nightclubs.to_csv('nightclubs.csv')"
   ]
  },
  {
   "cell_type": "code",
   "execution_count": 98,
   "metadata": {},
   "outputs": [],
   "source": [
    "myclient = MongoClient(\"mongodb://localhost/\")\n",
    "mydb = myclient[\"datlab\"]\n",
    "mycol = mydb[\"nightclubs\"]"
   ]
  },
  {
   "cell_type": "code",
   "execution_count": 27,
   "metadata": {},
   "outputs": [],
   "source": [
    "db, night = connectCollection('datlab','nightclubs')"
   ]
  },
  {
   "cell_type": "code",
   "execution_count": 31,
   "metadata": {},
   "outputs": [],
   "source": [
    "queryn = list(night.find())"
   ]
  },
  {
   "cell_type": "code",
   "execution_count": 32,
   "metadata": {},
   "outputs": [],
   "source": [
    "for office in queryn:\n",
    "    value = {\"$set\": {'location':getLocation(office)}}\n",
    "    night.update_one(office, value)"
   ]
  },
  {
   "cell_type": "markdown",
   "metadata": {},
   "source": [
    "AIRPORTS"
   ]
  },
  {
   "cell_type": "code",
   "execution_count": 102,
   "metadata": {},
   "outputs": [],
   "source": [
    "air1 = getLocation(searchPlaces('airport San Mateo','37.566879,-122.323895'))\n",
    "air2 = getLocation(searchPlaces('airport Seattle','47.6103008,-122.3399782'))\n",
    "air3 = getLocation(searchPlaces('airport Washington','38.960381,-77.084811'))"
   ]
  },
  {
   "cell_type": "code",
   "execution_count": 104,
   "metadata": {},
   "outputs": [],
   "source": [
    "airp1 = pd.DataFrame(air1)\n",
    "airp2 = pd.DataFrame(air2)\n",
    "airp3 = pd.DataFrame(air3)"
   ]
  },
  {
   "cell_type": "code",
   "execution_count": 109,
   "metadata": {},
   "outputs": [],
   "source": [
    "airports = pd.concat([airp1,airp2,airp3])\n",
    "airports.to_csv('airports.csv')"
   ]
  },
  {
   "cell_type": "code",
   "execution_count": 110,
   "metadata": {},
   "outputs": [],
   "source": [
    "myclient = MongoClient(\"mongodb://localhost/\")\n",
    "mydb = myclient[\"datlab\"]\n",
    "mycol = mydb[\"airports\"]"
   ]
  },
  {
   "cell_type": "code",
   "execution_count": 33,
   "metadata": {},
   "outputs": [],
   "source": [
    "db, air = connectCollection('datlab','airports')"
   ]
  },
  {
   "cell_type": "code",
   "execution_count": 34,
   "metadata": {},
   "outputs": [],
   "source": [
    "querya = list(air.find())"
   ]
  },
  {
   "cell_type": "code",
   "execution_count": 35,
   "metadata": {},
   "outputs": [],
   "source": [
    "for office in querya:\n",
    "    value = {\"$set\": {'location':getLocation(office)}}\n",
    "    air.update_one(office, value)"
   ]
  },
  {
   "cell_type": "markdown",
   "metadata": {},
   "source": [
    "VEGAN RESTAURANTS"
   ]
  },
  {
   "cell_type": "code",
   "execution_count": 111,
   "metadata": {},
   "outputs": [],
   "source": [
    "veg1 = getLocation(searchPlaces('vegan restaurant San Mateo','37.566879,-122.323895'))\n",
    "veg2 = getLocation(searchPlaces('vegan restaurant Seattle','47.6103008,-122.3399782'))\n",
    "veg3 = getLocation(searchPlaces('vegan restaurant Washington','38.960381,-77.084811'))"
   ]
  },
  {
   "cell_type": "code",
   "execution_count": 115,
   "metadata": {},
   "outputs": [],
   "source": [
    "vegan1 = pd.DataFrame(veg1)\n",
    "vegan2 = pd.DataFrame(veg2)\n",
    "vegan3 = pd.DataFrame(veg3)"
   ]
  },
  {
   "cell_type": "code",
   "execution_count": 116,
   "metadata": {},
   "outputs": [],
   "source": [
    "vegans = pd.concat([vegan1,vegan2,vegan3])\n",
    "vegans.to_csv('vegan_restaurants.csv')"
   ]
  },
  {
   "cell_type": "code",
   "execution_count": 117,
   "metadata": {},
   "outputs": [],
   "source": [
    "myclient = MongoClient(\"mongodb://localhost/\")\n",
    "mydb = myclient[\"datlab\"]\n",
    "mycol = mydb[\"vegan_restaurants\"]"
   ]
  },
  {
   "cell_type": "code",
   "execution_count": 36,
   "metadata": {},
   "outputs": [],
   "source": [
    "db, veg = connectCollection('datlab','vegan_restaurants')"
   ]
  },
  {
   "cell_type": "code",
   "execution_count": 37,
   "metadata": {},
   "outputs": [],
   "source": [
    "queryv = list(veg.find())"
   ]
  },
  {
   "cell_type": "code",
   "execution_count": 38,
   "metadata": {},
   "outputs": [],
   "source": [
    "for office in queryv:\n",
    "    value = {\"$set\": {'location':getLocation(office)}}\n",
    "    veg.update_one(office, value)"
   ]
  }
 ],
 "metadata": {
  "kernelspec": {
   "display_name": "Python 3",
   "language": "python",
   "name": "python3"
  },
  "language_info": {
   "codemirror_mode": {
    "name": "ipython",
    "version": 3
   },
   "file_extension": ".py",
   "mimetype": "text/x-python",
   "name": "python",
   "nbconvert_exporter": "python",
   "pygments_lexer": "ipython3",
   "version": "3.7.5rc1"
  }
 },
 "nbformat": 4,
 "nbformat_minor": 2
}
