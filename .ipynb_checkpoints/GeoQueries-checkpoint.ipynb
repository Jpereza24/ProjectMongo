{
 "cells": [
  {
   "cell_type": "code",
   "execution_count": 12,
   "metadata": {},
   "outputs": [],
   "source": [
    "from pymongo import MongoClient\n",
    "import pandas as pd"
   ]
  },
  {
   "cell_type": "code",
   "execution_count": 13,
   "metadata": {},
   "outputs": [],
   "source": [
    "def connectCollection(database, collection):\n",
    "    client = MongoClient()\n",
    "    db = client[database]\n",
    "    coll = db[collection]\n",
    "    return db, coll"
   ]
  },
  {
   "cell_type": "code",
   "execution_count": 51,
   "metadata": {},
   "outputs": [],
   "source": [
    "db, star = connectCollection('datlab','starbucks')\n",
    "db, sch = connectCollection('datlab', 'schools')\n",
    "db, air = connectCollection('datlab', 'airports')\n",
    "db, night = connectCollection('datlab', 'nightclubs')\n",
    "db, veg = connectCollection('datlab', 'vegan_restaurants')\n",
    "db, kinder = connectCollection('datlab', 'kindergarten')"
   ]
  },
  {
   "cell_type": "code",
   "execution_count": 15,
   "metadata": {},
   "outputs": [],
   "source": [
    "starque = list(star.find())"
   ]
  },
  {
   "cell_type": "code",
   "execution_count": 80,
   "metadata": {},
   "outputs": [],
   "source": [
    "def geoQuery(collection,coordinates,maxdistance,mindistance):\n",
    "    lista = collection.find(\n",
    "        {\"location\":\n",
    "         {\"$near\":\n",
    "          {\"$geometry\":\n",
    "           {\"type\":\"Point\",\n",
    "            \"coordinates\":coordinates\n",
    "           },\n",
    "           \"$maxDistance\":maxdistance,\n",
    "            \"$minDistance\":mindistance\n",
    "          }\n",
    "         }\n",
    "        }\n",
    "    )\n",
    "    return len(list(lista))\n"
   ]
  },
  {
   "cell_type": "code",
   "execution_count": 127,
   "metadata": {},
   "outputs": [],
   "source": [
    "db, coll = connectCollection('datlab','companies_seattle')"
   ]
  },
  {
   "cell_type": "code",
   "execution_count": 128,
   "metadata": {},
   "outputs": [],
   "source": [
    "q = list(coll.find())"
   ]
  },
  {
   "cell_type": "code",
   "execution_count": 129,
   "metadata": {},
   "outputs": [],
   "source": [
    "seattle = pd.DataFrame(q)"
   ]
  },
  {
   "cell_type": "code",
   "execution_count": 130,
   "metadata": {},
   "outputs": [],
   "source": [
    "seattle = pd.concat([seattle.drop(['location','latitude'], axis=1), seattle['location'].apply(pd.Series)], axis=1)"
   ]
  },
  {
   "cell_type": "code",
   "execution_count": 131,
   "metadata": {},
   "outputs": [],
   "source": [
    "listacoords = list(seattle['coordinates'])"
   ]
  },
  {
   "cell_type": "code",
   "execution_count": 132,
   "metadata": {},
   "outputs": [],
   "source": [
    "def count(collection, lista):\n",
    "    list250 = []\n",
    "    list500 = []\n",
    "    for e in lista:\n",
    "        list250.append(geoQuery(collection,e,250,0))\n",
    "        list500.append((geoQuery(collection,e,500,250))/2)\n",
    "    return list250, list500"
   ]
  },
  {
   "cell_type": "code",
   "execution_count": 133,
   "metadata": {},
   "outputs": [],
   "source": [
    "sb250, sb500 = count(star, listacoords)\n",
    "air250, air500 = count(air, listacoords)\n",
    "sch250, sch500 = count(sch, listacoords)\n",
    "ni250, ni500 = count(night, listacoords)\n",
    "veg250, veg500 = count(veg, listacoords)\n",
    "kin250, kin500 = count(kinder, listacoords)"
   ]
  },
  {
   "cell_type": "code",
   "execution_count": 134,
   "metadata": {},
   "outputs": [
    {
     "data": {
      "text/plain": [
       "[1, 0, 0, 5, 1, 0, 1, 5, 1, 0, 5, 1, 0, 1, 0, 0, 3, 3, 0, 0, 0]"
      ]
     },
     "execution_count": 134,
     "metadata": {},
     "output_type": "execute_result"
    }
   ],
   "source": [
    "sb250"
   ]
  },
  {
   "cell_type": "code",
   "execution_count": 135,
   "metadata": {},
   "outputs": [],
   "source": [
    "facilities = pd.DataFrame(list(zip(sb250,air250,sch250,ni250,veg250,kin250)), columns =[\"Starbucks\",\"Airports\", \"Schools\",\"Nightclubs\",\"Veganrests\",\"Kindergarten\"])"
   ]
  },
  {
   "cell_type": "code",
   "execution_count": 136,
   "metadata": {},
   "outputs": [],
   "source": [
    "seattle =pd.concat([seattle, facilities], axis=1)"
   ]
  },
  {
   "cell_type": "code",
   "execution_count": 137,
   "metadata": {},
   "outputs": [],
   "source": [
    "seattle['250'] = seattle['Starbucks'] + seattle['Airports'] + seattle['Schools'] + seattle['Nightclubs'] + seattle['Veganrests'] + seattle['Kindergarten']"
   ]
  },
  {
   "cell_type": "code",
   "execution_count": 138,
   "metadata": {},
   "outputs": [],
   "source": [
    "seattle = seattle.loc[(seattle['250']>5)]"
   ]
  },
  {
   "cell_type": "code",
   "execution_count": 139,
   "metadata": {},
   "outputs": [],
   "source": [
    "coldelete = ['Starbucks','Airports','Schools','Nightclubs','Veganrests','Kindergarten','_id','','description','city','type']\n",
    "seattle = seattle.drop(coldelete, axis=1)"
   ]
  },
  {
   "cell_type": "code",
   "execution_count": 140,
   "metadata": {},
   "outputs": [
    {
     "data": {
      "text/html": [
       "<div>\n",
       "<style scoped>\n",
       "    .dataframe tbody tr th:only-of-type {\n",
       "        vertical-align: middle;\n",
       "    }\n",
       "\n",
       "    .dataframe tbody tr th {\n",
       "        vertical-align: top;\n",
       "    }\n",
       "\n",
       "    .dataframe thead th {\n",
       "        text-align: right;\n",
       "    }\n",
       "</style>\n",
       "<table border=\"1\" class=\"dataframe\">\n",
       "  <thead>\n",
       "    <tr style=\"text-align: right;\">\n",
       "      <th></th>\n",
       "      <th>name</th>\n",
       "      <th>category_code</th>\n",
       "      <th>number_of_employees</th>\n",
       "      <th>founded_year</th>\n",
       "      <th>total_money_raised</th>\n",
       "      <th>coordinates</th>\n",
       "      <th>250</th>\n",
       "    </tr>\n",
       "  </thead>\n",
       "  <tbody>\n",
       "    <tr>\n",
       "      <th>3</th>\n",
       "      <td>Implied Solutions</td>\n",
       "      <td>software</td>\n",
       "      <td>1</td>\n",
       "      <td>2008</td>\n",
       "      <td>$0</td>\n",
       "      <td>[-122.3328401, 47.6042663]</td>\n",
       "      <td>14</td>\n",
       "    </tr>\n",
       "    <tr>\n",
       "      <th>6</th>\n",
       "      <td>L4 Mobile</td>\n",
       "      <td>mobile</td>\n",
       "      <td>25</td>\n",
       "      <td>2008</td>\n",
       "      <td>$4.8M</td>\n",
       "      <td>[-122.2049192, 47.676762]</td>\n",
       "      <td>18</td>\n",
       "    </tr>\n",
       "    <tr>\n",
       "      <th>7</th>\n",
       "      <td>Optify</td>\n",
       "      <td>software</td>\n",
       "      <td>45</td>\n",
       "      <td>2008</td>\n",
       "      <td>$10.8M</td>\n",
       "      <td>[-122.333359, 47.603364]</td>\n",
       "      <td>16</td>\n",
       "    </tr>\n",
       "    <tr>\n",
       "      <th>10</th>\n",
       "      <td>Z2Live</td>\n",
       "      <td>games_video</td>\n",
       "      <td>130</td>\n",
       "      <td>2009</td>\n",
       "      <td>$6.5M</td>\n",
       "      <td>[-122.3399782, 47.6103008]</td>\n",
       "      <td>14</td>\n",
       "    </tr>\n",
       "    <tr>\n",
       "      <th>16</th>\n",
       "      <td>GroupieGuide</td>\n",
       "      <td>web</td>\n",
       "      <td>4</td>\n",
       "      <td>2008</td>\n",
       "      <td>$0</td>\n",
       "      <td>[-122.3374372, 47.6042792]</td>\n",
       "      <td>8</td>\n",
       "    </tr>\n",
       "    <tr>\n",
       "      <th>17</th>\n",
       "      <td>Decho</td>\n",
       "      <td>web</td>\n",
       "      <td>150</td>\n",
       "      <td>2008</td>\n",
       "      <td>$0</td>\n",
       "      <td>[-122.3326145, 47.6024156]</td>\n",
       "      <td>15</td>\n",
       "    </tr>\n",
       "  </tbody>\n",
       "</table>\n",
       "</div>"
      ],
      "text/plain": [
       "                 name category_code number_of_employees  founded_year  \\\n",
       "3   Implied Solutions      software                   1          2008   \n",
       "6           L4 Mobile        mobile                  25          2008   \n",
       "7              Optify      software                  45          2008   \n",
       "10             Z2Live   games_video                 130          2009   \n",
       "16       GroupieGuide           web                   4          2008   \n",
       "17              Decho           web                 150          2008   \n",
       "\n",
       "   total_money_raised                 coordinates  250  \n",
       "3                  $0  [-122.3328401, 47.6042663]   14  \n",
       "6               $4.8M   [-122.2049192, 47.676762]   18  \n",
       "7              $10.8M    [-122.333359, 47.603364]   16  \n",
       "10              $6.5M  [-122.3399782, 47.6103008]   14  \n",
       "16                 $0  [-122.3374372, 47.6042792]    8  \n",
       "17                 $0  [-122.3326145, 47.6024156]   15  "
      ]
     },
     "execution_count": 140,
     "metadata": {},
     "output_type": "execute_result"
    }
   ],
   "source": [
    "seattle"
   ]
  },
  {
   "cell_type": "code",
   "execution_count": null,
   "metadata": {},
   "outputs": [],
   "source": []
  }
 ],
 "metadata": {
  "kernelspec": {
   "display_name": "Python 3",
   "language": "python",
   "name": "python3"
  },
  "language_info": {
   "codemirror_mode": {
    "name": "ipython",
    "version": 3
   },
   "file_extension": ".py",
   "mimetype": "text/x-python",
   "name": "python",
   "nbconvert_exporter": "python",
   "pygments_lexer": "ipython3",
   "version": "3.7.5rc1"
  }
 },
 "nbformat": 4,
 "nbformat_minor": 2
}
