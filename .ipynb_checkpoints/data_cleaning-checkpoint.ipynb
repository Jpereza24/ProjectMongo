{
 "cells": [
  {
   "cell_type": "code",
   "execution_count": 50,
   "metadata": {},
   "outputs": [],
   "source": [
    "from pymongo import MongoClient\n",
    "import folium\n",
    "import pandas as pd"
   ]
  },
  {
   "cell_type": "code",
   "execution_count": 51,
   "metadata": {},
   "outputs": [],
   "source": [
    "def connectCollection(database, collection):\n",
    "    client = MongoClient()\n",
    "    db = client[database]\n",
    "    coll = db[collection]\n",
    "    return db, coll"
   ]
  },
  {
   "cell_type": "code",
   "execution_count": 52,
   "metadata": {},
   "outputs": [],
   "source": [
    "db, coll = connectCollection('datlab','companies')"
   ]
  },
  {
   "cell_type": "code",
   "execution_count": 53,
   "metadata": {},
   "outputs": [],
   "source": [
    "pipeline = [{'$unwind':'$offices'},\n",
    "        {'$match':{'$and':[{\"category_code\":{\"$in\":[\"web\",\"advertising\",\"software\",\"games_video\",\"ecommerce\",\"mobile\",\"cleantech\",\"analytics\",\"network_hosting\",\"hardware\"]}},{\"offices.country_code\":'USA'},{\"funding_rounds.raised_amount\":{'$gte':1000000}},{'deadpooled_year':None},{'$or':[{'offices.latitude':{'$ne':None}},{'offices.longitude':{'$ne':None}}]},{'founded_year':{'$gte': 2008}}]}}]\n",
    "query = list(coll.aggregate(pipeline))"
   ]
  },
  {
   "cell_type": "code",
   "execution_count": 54,
   "metadata": {},
   "outputs": [],
   "source": [
    "df = pd.DataFrame(query)"
   ]
  },
  {
   "cell_type": "code",
   "execution_count": 55,
   "metadata": {},
   "outputs": [],
   "source": [
    "data = df['offices']"
   ]
  },
  {
   "cell_type": "code",
   "execution_count": 56,
   "metadata": {},
   "outputs": [],
   "source": [
    "latitude = []\n",
    "\n",
    "for key,value in data.items():\n",
    "    latitude.append(value['latitude'])"
   ]
  },
  {
   "cell_type": "code",
   "execution_count": 57,
   "metadata": {},
   "outputs": [],
   "source": [
    "longitude = []\n",
    "\n",
    "for key, value in data.items():\n",
    "    longitude.append(value['longitude'])"
   ]
  },
  {
   "cell_type": "code",
   "execution_count": 58,
   "metadata": {},
   "outputs": [],
   "source": [
    "cities = []\n",
    "\n",
    "for key,value in data.items():\n",
    "    cities.append(value['city'])"
   ]
  },
  {
   "cell_type": "code",
   "execution_count": 59,
   "metadata": {},
   "outputs": [],
   "source": [
    "df1 = pd.DataFrame(list(zip(latitude,longitude,cities)), columns =[\"latitude\",\"longitude\", \"city\"])"
   ]
  },
  {
   "cell_type": "code",
   "execution_count": 60,
   "metadata": {},
   "outputs": [],
   "source": [
    "df =pd.concat([df, df1], axis=1)"
   ]
  },
  {
   "cell_type": "code",
   "execution_count": 61,
   "metadata": {},
   "outputs": [],
   "source": [
    "coleliminar = ['_id','permalink','crunchbase_url','created_at','products','funding_rounds','acquisition','acquisitions','homepage_url','blog_url', 'blog_feed_url','twitter_username','video_embeds','screenshots','external_links','partners','founded_month','founded_day','deadpooled_year','deadpooled_month','deadpooled_day','competitions','providerships','investments', 'milestones','ipo','deadpooled_url','tag_list','alias_list','email_address','phone_number','updated_at','image','overview','relationships', 'location', 'offices']\n",
    "df = df.drop(coleliminar, axis=1)\n"
   ]
  },
  {
   "cell_type": "code",
   "execution_count": 62,
   "metadata": {},
   "outputs": [
    {
     "data": {
      "text/html": [
       "<div>\n",
       "<style scoped>\n",
       "    .dataframe tbody tr th:only-of-type {\n",
       "        vertical-align: middle;\n",
       "    }\n",
       "\n",
       "    .dataframe tbody tr th {\n",
       "        vertical-align: top;\n",
       "    }\n",
       "\n",
       "    .dataframe thead th {\n",
       "        text-align: right;\n",
       "    }\n",
       "</style>\n",
       "<table border=\"1\" class=\"dataframe\">\n",
       "  <thead>\n",
       "    <tr style=\"text-align: right;\">\n",
       "      <th></th>\n",
       "      <th>name</th>\n",
       "      <th>category_code</th>\n",
       "      <th>number_of_employees</th>\n",
       "      <th>founded_year</th>\n",
       "      <th>description</th>\n",
       "      <th>total_money_raised</th>\n",
       "      <th>latitude</th>\n",
       "      <th>longitude</th>\n",
       "      <th>city</th>\n",
       "    </tr>\n",
       "  </thead>\n",
       "  <tbody>\n",
       "    <tr>\n",
       "      <th>0</th>\n",
       "      <td>OpenX</td>\n",
       "      <td>advertising</td>\n",
       "      <td>305.0</td>\n",
       "      <td>2008</td>\n",
       "      <td>OpenX</td>\n",
       "      <td>$75.5M</td>\n",
       "      <td>34.149471</td>\n",
       "      <td>-118.132747</td>\n",
       "      <td>Pasadena</td>\n",
       "    </tr>\n",
       "    <tr>\n",
       "      <th>1</th>\n",
       "      <td>GoingOn</td>\n",
       "      <td>software</td>\n",
       "      <td>40.0</td>\n",
       "      <td>2008</td>\n",
       "      <td>Private Academic Networks</td>\n",
       "      <td>$8.5M</td>\n",
       "      <td>37.782263</td>\n",
       "      <td>-122.392142</td>\n",
       "      <td>San Francisco</td>\n",
       "    </tr>\n",
       "    <tr>\n",
       "      <th>2</th>\n",
       "      <td>Crunchyroll</td>\n",
       "      <td>games_video</td>\n",
       "      <td>50.0</td>\n",
       "      <td>2008</td>\n",
       "      <td>Digital Entertainment and Media Platform</td>\n",
       "      <td>$4.8M</td>\n",
       "      <td>37.781265</td>\n",
       "      <td>-122.393229</td>\n",
       "      <td>San Francisco</td>\n",
       "    </tr>\n",
       "    <tr>\n",
       "      <th>3</th>\n",
       "      <td>GENWI</td>\n",
       "      <td>mobile</td>\n",
       "      <td>25.0</td>\n",
       "      <td>2010</td>\n",
       "      <td>Cloud Publishing for Mobile</td>\n",
       "      <td>$7.1M</td>\n",
       "      <td>33.817100</td>\n",
       "      <td>-111.903500</td>\n",
       "      <td>Los Altos</td>\n",
       "    </tr>\n",
       "    <tr>\n",
       "      <th>4</th>\n",
       "      <td>Fixya</td>\n",
       "      <td>web</td>\n",
       "      <td>30.0</td>\n",
       "      <td>2013</td>\n",
       "      <td>Tech Support Community</td>\n",
       "      <td>$8M</td>\n",
       "      <td>37.566879</td>\n",
       "      <td>-122.323895</td>\n",
       "      <td>San Mateo</td>\n",
       "    </tr>\n",
       "    <tr>\n",
       "      <th>...</th>\n",
       "      <td>...</td>\n",
       "      <td>...</td>\n",
       "      <td>...</td>\n",
       "      <td>...</td>\n",
       "      <td>...</td>\n",
       "      <td>...</td>\n",
       "      <td>...</td>\n",
       "      <td>...</td>\n",
       "      <td>...</td>\n",
       "    </tr>\n",
       "    <tr>\n",
       "      <th>148</th>\n",
       "      <td>StyleCaster</td>\n",
       "      <td>web</td>\n",
       "      <td>60.0</td>\n",
       "      <td>2008</td>\n",
       "      <td>Media and Ad-Tech for fashion &amp; beauty</td>\n",
       "      <td>$5M</td>\n",
       "      <td>40.745050</td>\n",
       "      <td>-73.990098</td>\n",
       "      <td>New York City</td>\n",
       "    </tr>\n",
       "    <tr>\n",
       "      <th>149</th>\n",
       "      <td>Testplant</td>\n",
       "      <td>software</td>\n",
       "      <td>50.0</td>\n",
       "      <td>2008</td>\n",
       "      <td>GUI test tool</td>\n",
       "      <td>$2.56M</td>\n",
       "      <td>40.023005</td>\n",
       "      <td>-105.253284</td>\n",
       "      <td>Boulder</td>\n",
       "    </tr>\n",
       "    <tr>\n",
       "      <th>150</th>\n",
       "      <td>Homesnap</td>\n",
       "      <td>analytics</td>\n",
       "      <td>18.0</td>\n",
       "      <td>2008</td>\n",
       "      <td>online real estate broker</td>\n",
       "      <td>$5.5M</td>\n",
       "      <td>38.960381</td>\n",
       "      <td>-77.084811</td>\n",
       "      <td>Washington</td>\n",
       "    </tr>\n",
       "    <tr>\n",
       "      <th>151</th>\n",
       "      <td>Culture Jam</td>\n",
       "      <td>web</td>\n",
       "      <td>15.0</td>\n",
       "      <td>2008</td>\n",
       "      <td>Innovative Social Media Technology</td>\n",
       "      <td>$1.7M</td>\n",
       "      <td>34.013715</td>\n",
       "      <td>-118.466060</td>\n",
       "      <td>Los Angeles</td>\n",
       "    </tr>\n",
       "    <tr>\n",
       "      <th>152</th>\n",
       "      <td>Continuity Engine</td>\n",
       "      <td>software</td>\n",
       "      <td>11.0</td>\n",
       "      <td>2008</td>\n",
       "      <td>Crowdsource Banking</td>\n",
       "      <td>$7.84M</td>\n",
       "      <td>41.327918</td>\n",
       "      <td>-73.243552</td>\n",
       "      <td>New Haven</td>\n",
       "    </tr>\n",
       "  </tbody>\n",
       "</table>\n",
       "<p>153 rows × 9 columns</p>\n",
       "</div>"
      ],
      "text/plain": [
       "                  name category_code  number_of_employees  founded_year  \\\n",
       "0                OpenX   advertising                305.0          2008   \n",
       "1              GoingOn      software                 40.0          2008   \n",
       "2          Crunchyroll   games_video                 50.0          2008   \n",
       "3                GENWI        mobile                 25.0          2010   \n",
       "4                Fixya           web                 30.0          2013   \n",
       "..                 ...           ...                  ...           ...   \n",
       "148        StyleCaster           web                 60.0          2008   \n",
       "149          Testplant      software                 50.0          2008   \n",
       "150           Homesnap     analytics                 18.0          2008   \n",
       "151        Culture Jam           web                 15.0          2008   \n",
       "152  Continuity Engine      software                 11.0          2008   \n",
       "\n",
       "                                  description total_money_raised   latitude  \\\n",
       "0                                       OpenX             $75.5M  34.149471   \n",
       "1                   Private Academic Networks              $8.5M  37.782263   \n",
       "2    Digital Entertainment and Media Platform              $4.8M  37.781265   \n",
       "3                 Cloud Publishing for Mobile              $7.1M  33.817100   \n",
       "4                      Tech Support Community                $8M  37.566879   \n",
       "..                                        ...                ...        ...   \n",
       "148    Media and Ad-Tech for fashion & beauty                $5M  40.745050   \n",
       "149                             GUI test tool             $2.56M  40.023005   \n",
       "150                 online real estate broker              $5.5M  38.960381   \n",
       "151       Innovative Social Media Technology               $1.7M  34.013715   \n",
       "152                       Crowdsource Banking             $7.84M  41.327918   \n",
       "\n",
       "      longitude           city  \n",
       "0   -118.132747       Pasadena  \n",
       "1   -122.392142  San Francisco  \n",
       "2   -122.393229  San Francisco  \n",
       "3   -111.903500      Los Altos  \n",
       "4   -122.323895      San Mateo  \n",
       "..          ...            ...  \n",
       "148  -73.990098  New York City  \n",
       "149 -105.253284        Boulder  \n",
       "150  -77.084811     Washington  \n",
       "151 -118.466060    Los Angeles  \n",
       "152  -73.243552      New Haven  \n",
       "\n",
       "[153 rows x 9 columns]"
      ]
     },
     "execution_count": 62,
     "metadata": {},
     "output_type": "execute_result"
    }
   ],
   "source": [
    "df"
   ]
  },
  {
   "cell_type": "code",
   "execution_count": null,
   "metadata": {},
   "outputs": [],
   "source": []
  },
  {
   "cell_type": "code",
   "execution_count": 63,
   "metadata": {},
   "outputs": [],
   "source": [
    "df.to_csv('companies_clean.csv')"
   ]
  },
  {
   "cell_type": "code",
   "execution_count": 49,
   "metadata": {},
   "outputs": [],
   "source": [
    "myclient = MongoClient(\"mongodb://localhost/\")\n",
    "mydb = myclient[\"datlab\"]\n",
    "mycol = mydb[\"companies_clean\"]"
   ]
  }
 ],
 "metadata": {
  "kernelspec": {
   "display_name": "Python 3",
   "language": "python",
   "name": "python3"
  },
  "language_info": {
   "codemirror_mode": {
    "name": "ipython",
    "version": 3
   },
   "file_extension": ".py",
   "mimetype": "text/x-python",
   "name": "python",
   "nbconvert_exporter": "python",
   "pygments_lexer": "ipython3",
   "version": "3.7.5rc1"
  }
 },
 "nbformat": 4,
 "nbformat_minor": 2
}
