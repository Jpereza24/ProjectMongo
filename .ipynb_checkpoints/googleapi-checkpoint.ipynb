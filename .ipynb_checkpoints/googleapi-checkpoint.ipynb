{
 "cells": [
  {
   "cell_type": "code",
   "execution_count": 1,
   "metadata": {},
   "outputs": [
    {
     "data": {
      "text/plain": [
       "True"
      ]
     },
     "execution_count": 1,
     "metadata": {},
     "output_type": "execute_result"
    }
   ],
   "source": [
    "import googlemaps\n",
    "from pymongo import MongoClient\n",
    "from datetime import datetime\n",
    "import os\n",
    "import requests\n",
    "import json\n",
    "import time\n",
    "import pandas as pd\n",
    "import folium\n",
    "from dotenv import load_dotenv\n",
    "load_dotenv()"
   ]
  },
  {
   "cell_type": "code",
   "execution_count": 2,
   "metadata": {},
   "outputs": [],
   "source": [
    "def searchPlaces(query, location):\n",
    "    API_key = os.getenv('key')\n",
    "    endpoint_url = \"https://maps.googleapis.com/maps/api/place/textsearch/json\"\n",
    "    places = []\n",
    "    params = {\n",
    "        'query': query,\n",
    "        'location': location,\n",
    "        'radius': 0.25,\n",
    "        'key': API_key\n",
    "    }\n",
    "    res = requests.get(endpoint_url, params = params)\n",
    "    results =  json.loads(res.content)\n",
    "    places.extend(results['results'])\n",
    "    time.sleep(2)\n",
    "    while \"next_page_token\" in results:\n",
    "        params['pagetoken'] = results['next_page_token'],\n",
    "        res = requests.get(endpoint_url, params = params)\n",
    "        results = json.loads(res.content)\n",
    "        places.extend(results['results'])\n",
    "        time.sleep(2)\n",
    "    return places"
   ]
  },
  {
   "cell_type": "code",
   "execution_count": 3,
   "metadata": {},
   "outputs": [],
   "source": [
    "def getLocation(result):\n",
    "    location = []\n",
    "    for i in range(len(result)):\n",
    "        latitude = result[i]['geometry']['location']['lat']\n",
    "        longitude = result[i]['geometry']['location']['lng']\n",
    "        name = result[i]['name']\n",
    "        address = result[i]['formatted_address']\n",
    "        loc = {\n",
    "            'name': name,\n",
    "            'address': address,\n",
    "            'longitude': longitude,\n",
    "            'latitude': latitude\n",
    "        }\n",
    "        location.append(loc)\n",
    "    return location  "
   ]
  },
  {
   "cell_type": "code",
   "execution_count": 4,
   "metadata": {},
   "outputs": [],
   "source": [
    "def dataFrame(query):\n",
    "    df1 = pd.DataFrame(getLocation(searchPlaces(query,'47.6024156,-122.3326145')))\n",
    "    df2 = pd.DataFrame(getLocation(searchPlaces(query,'47.6103008,-122.3399782')))\n",
    "    df3 = pd.DataFrame(getLocation(searchPlaces(query,'47.603364,-122.333359')))\n",
    "    df4 = pd.DataFrame(getLocation(searchPlaces(query,'47.676762,-122.2049192')))\n",
    "    df5 = pd.DataFrame(getLocation(searchPlaces(query,'47.627368,-122.34229')))\n",
    "    df6 = pd.DataFrame(getLocation(searchPlaces(query,'47.693994,-122.349701')))\n",
    "    df7 = pd.DataFrame(getLocation(searchPlaces(query,'47.715013,-122.320283')))\n",
    "    df = pd.concat([df1,df2,df3,df4,df5,df6,df7])\n",
    "    return df\n",
    "\n"
   ]
  },
  {
   "cell_type": "markdown",
   "metadata": {},
   "source": []
  },
  {
   "cell_type": "code",
   "execution_count": 6,
   "metadata": {},
   "outputs": [
    {
     "data": {
      "text/html": [
       "<div>\n",
       "<style scoped>\n",
       "    .dataframe tbody tr th:only-of-type {\n",
       "        vertical-align: middle;\n",
       "    }\n",
       "\n",
       "    .dataframe tbody tr th {\n",
       "        vertical-align: top;\n",
       "    }\n",
       "\n",
       "    .dataframe thead th {\n",
       "        text-align: right;\n",
       "    }\n",
       "</style>\n",
       "<table border=\"1\" class=\"dataframe\">\n",
       "  <thead>\n",
       "    <tr style=\"text-align: right;\">\n",
       "      <th></th>\n",
       "      <th>name</th>\n",
       "      <th>address</th>\n",
       "      <th>longitude</th>\n",
       "      <th>latitude</th>\n",
       "    </tr>\n",
       "  </thead>\n",
       "  <tbody>\n",
       "    <tr>\n",
       "      <th>0</th>\n",
       "      <td>Starbucks</td>\n",
       "      <td>102 1st Ave S, Seattle, WA 98104, United States</td>\n",
       "      <td>-122.333974</td>\n",
       "      <td>47.601606</td>\n",
       "    </tr>\n",
       "    <tr>\n",
       "      <th>1</th>\n",
       "      <td>Starbucks</td>\n",
       "      <td>701 5th Ave, Seattle, WA 98104, United States</td>\n",
       "      <td>-122.330827</td>\n",
       "      <td>47.604156</td>\n",
       "    </tr>\n",
       "    <tr>\n",
       "      <th>2</th>\n",
       "      <td>Starbucks</td>\n",
       "      <td>823 1st Ave, Seattle, WA 98104, United States</td>\n",
       "      <td>-122.335678</td>\n",
       "      <td>47.603788</td>\n",
       "    </tr>\n",
       "    <tr>\n",
       "      <th>3</th>\n",
       "      <td>Starbucks</td>\n",
       "      <td>1125 4th Ave, Seattle, WA 98101, United States</td>\n",
       "      <td>-122.334259</td>\n",
       "      <td>47.607304</td>\n",
       "    </tr>\n",
       "    <tr>\n",
       "      <th>4</th>\n",
       "      <td>Starbucks</td>\n",
       "      <td>800 5th Ave L901, Seattle, WA 98104, United St...</td>\n",
       "      <td>-122.330344</td>\n",
       "      <td>47.605410</td>\n",
       "    </tr>\n",
       "    <tr>\n",
       "      <th>...</th>\n",
       "      <td>...</td>\n",
       "      <td>...</td>\n",
       "      <td>...</td>\n",
       "      <td>...</td>\n",
       "    </tr>\n",
       "    <tr>\n",
       "      <th>55</th>\n",
       "      <td>Starbucks</td>\n",
       "      <td>2237 NW 58th St, Seattle, WA 98107, United States</td>\n",
       "      <td>-122.387292</td>\n",
       "      <td>47.670323</td>\n",
       "    </tr>\n",
       "    <tr>\n",
       "      <th>56</th>\n",
       "      <td>Starbucks</td>\n",
       "      <td>4400 11th Ave NW, Seattle, WA 98107, United St...</td>\n",
       "      <td>-122.369309</td>\n",
       "      <td>47.660422</td>\n",
       "    </tr>\n",
       "    <tr>\n",
       "      <th>57</th>\n",
       "      <td>Starbucks</td>\n",
       "      <td>102 Pike St, Seattle, WA 98101, United States</td>\n",
       "      <td>-122.339942</td>\n",
       "      <td>47.609009</td>\n",
       "    </tr>\n",
       "    <tr>\n",
       "      <th>58</th>\n",
       "      <td>Starbucks</td>\n",
       "      <td>2135 Queen Anne Ave N, Seattle, WA 98109, Unit...</td>\n",
       "      <td>-122.357129</td>\n",
       "      <td>47.638255</td>\n",
       "    </tr>\n",
       "    <tr>\n",
       "      <th>59</th>\n",
       "      <td>Starbucks</td>\n",
       "      <td>22805 44th Ave W, Mountlake Terrace, WA 98043,...</td>\n",
       "      <td>-122.291744</td>\n",
       "      <td>47.791185</td>\n",
       "    </tr>\n",
       "  </tbody>\n",
       "</table>\n",
       "<p>420 rows × 4 columns</p>\n",
       "</div>"
      ],
      "text/plain": [
       "         name                                            address   longitude  \\\n",
       "0   Starbucks    102 1st Ave S, Seattle, WA 98104, United States -122.333974   \n",
       "1   Starbucks      701 5th Ave, Seattle, WA 98104, United States -122.330827   \n",
       "2   Starbucks      823 1st Ave, Seattle, WA 98104, United States -122.335678   \n",
       "3   Starbucks     1125 4th Ave, Seattle, WA 98101, United States -122.334259   \n",
       "4   Starbucks  800 5th Ave L901, Seattle, WA 98104, United St... -122.330344   \n",
       "..        ...                                                ...         ...   \n",
       "55  Starbucks  2237 NW 58th St, Seattle, WA 98107, United States -122.387292   \n",
       "56  Starbucks  4400 11th Ave NW, Seattle, WA 98107, United St... -122.369309   \n",
       "57  Starbucks      102 Pike St, Seattle, WA 98101, United States -122.339942   \n",
       "58  Starbucks  2135 Queen Anne Ave N, Seattle, WA 98109, Unit... -122.357129   \n",
       "59  Starbucks  22805 44th Ave W, Mountlake Terrace, WA 98043,... -122.291744   \n",
       "\n",
       "     latitude  \n",
       "0   47.601606  \n",
       "1   47.604156  \n",
       "2   47.603788  \n",
       "3   47.607304  \n",
       "4   47.605410  \n",
       "..        ...  \n",
       "55  47.670323  \n",
       "56  47.660422  \n",
       "57  47.609009  \n",
       "58  47.638255  \n",
       "59  47.791185  \n",
       "\n",
       "[420 rows x 4 columns]"
      ]
     },
     "execution_count": 6,
     "metadata": {},
     "output_type": "execute_result"
    }
   ],
   "source": [
    "starbucks = dataFrame('starbucks')\n"
   ]
  },
  {
   "cell_type": "code",
   "execution_count": 73,
   "metadata": {},
   "outputs": [],
   "source": [
    "starbucks = pd.concat([stardf1,stardf2,stardf3])\n",
    "starbucks.to_csv('starbucks.csv')"
   ]
  },
  {
   "cell_type": "code",
   "execution_count": 76,
   "metadata": {},
   "outputs": [],
   "source": [
    "myclient = MongoClient(\"mongodb://localhost/\")\n",
    "mydb = myclient[\"datlab\"]\n",
    "mycol = mydb[\"starbucks\"]"
   ]
  },
  {
   "cell_type": "code",
   "execution_count": 4,
   "metadata": {},
   "outputs": [],
   "source": [
    "def connectCollection(database, collection):\n",
    "    client = MongoClient()\n",
    "    db = client[database]\n",
    "    coll = db[collection]\n",
    "    return db, coll"
   ]
  },
  {
   "cell_type": "code",
   "execution_count": 5,
   "metadata": {},
   "outputs": [],
   "source": [
    "db, star = connectCollection('datlab','starbucks')"
   ]
  },
  {
   "cell_type": "code",
   "execution_count": 7,
   "metadata": {},
   "outputs": [],
   "source": [
    "queryst = list(star.find())"
   ]
  },
  {
   "cell_type": "code",
   "execution_count": 8,
   "metadata": {},
   "outputs": [],
   "source": [
    "def getLocation(office):\n",
    "    longitude = office['longitude']\n",
    "    latitude = office['latitude']\n",
    "    loc = {\n",
    "        'type':'Point',\n",
    "        'coordinates':[longitude, latitude]\n",
    "    }\n",
    "    return loc"
   ]
  },
  {
   "cell_type": "code",
   "execution_count": 11,
   "metadata": {},
   "outputs": [],
   "source": [
    "for office in queryst:\n",
    "    value = {\"$set\": {'location':getLocation(office)}}\n",
    "    star.update_one(office, value)"
   ]
  },
  {
   "cell_type": "markdown",
   "metadata": {},
   "source": [
    "#elementary schools"
   ]
  },
  {
   "cell_type": "code",
   "execution_count": 107,
   "metadata": {},
   "outputs": [],
   "source": [
    "schools1 = getLocation(searchPlaces('elementary schools','37.566879,-122.323895'))\n",
    "schools2 = getLocation(searchPlaces('elementary schools','47.6103008,-122.3399782'))\n",
    "schools3 = getLocation(searchPlaces('elementary schools','38.960381,-77.084811'))"
   ]
  },
  {
   "cell_type": "code",
   "execution_count": 82,
   "metadata": {},
   "outputs": [],
   "source": [
    "school1 = pd.DataFrame(schools1)\n",
    "school2 = pd.DataFrame(schools2)\n",
    "school3 = pd.DataFrame(schools3)"
   ]
  },
  {
   "cell_type": "code",
   "execution_count": 84,
   "metadata": {},
   "outputs": [],
   "source": [
    "schools = pd.concat([school1,school2,school3])\n",
    "schools.to_csv('schools.csv')"
   ]
  },
  {
   "cell_type": "code",
   "execution_count": 85,
   "metadata": {
    "scrolled": false
   },
   "outputs": [],
   "source": [
    "myclient = MongoClient(\"mongodb://localhost/\")\n",
    "mydb = myclient[\"datlab\"]\n",
    "mycol = mydb[\"schools\"]"
   ]
  },
  {
   "cell_type": "code",
   "execution_count": 22,
   "metadata": {},
   "outputs": [],
   "source": [
    "def connectCollection(database, collection):\n",
    "    client = MongoClient()\n",
    "    db = client[database]\n",
    "    coll = db[collection]\n",
    "    return db, coll"
   ]
  },
  {
   "cell_type": "code",
   "execution_count": 23,
   "metadata": {},
   "outputs": [],
   "source": [
    "db, school = connectCollection('datlab','schools')"
   ]
  },
  {
   "cell_type": "code",
   "execution_count": 28,
   "metadata": {},
   "outputs": [],
   "source": [
    "querysch = list(school.find())"
   ]
  },
  {
   "cell_type": "code",
   "execution_count": 29,
   "metadata": {},
   "outputs": [],
   "source": [
    "def getLocation(office):\n",
    "    longitude = office['longitude']\n",
    "    latitude = office['latitude']\n",
    "    loc = {\n",
    "        'type':'Point',\n",
    "        'coordinates':[longitude, latitude]\n",
    "    }\n",
    "    return loc"
   ]
  },
  {
   "cell_type": "code",
   "execution_count": 30,
   "metadata": {},
   "outputs": [],
   "source": [
    "for office in querysch:\n",
    "    value = {\"$set\": {'location':getLocation(office)}}\n",
    "    school.update_one(office, value)"
   ]
  },
  {
   "cell_type": "markdown",
   "metadata": {},
   "source": [
    "NIGHTCLUBS"
   ]
  },
  {
   "cell_type": "code",
   "execution_count": 93,
   "metadata": {},
   "outputs": [],
   "source": [
    "clubs1 = getLocation(searchPlaces('night club San Mateo','37.566879,-122.323895'))\n",
    "clubs2 = getLocation(searchPlaces('night club Seattle','47.6103008,-122.3399782'))\n",
    "clubs3 = getLocation(searchPlaces('night club Washington','38.960381,-77.084811'))"
   ]
  },
  {
   "cell_type": "code",
   "execution_count": 95,
   "metadata": {},
   "outputs": [],
   "source": [
    "nightclub1 = pd.DataFrame(clubs1)\n",
    "nightclub2 = pd.DataFrame(clubs2)\n",
    "nightclub3 = pd.DataFrame(clubs3)"
   ]
  },
  {
   "cell_type": "code",
   "execution_count": 97,
   "metadata": {},
   "outputs": [],
   "source": [
    "nightclubs = pd.concat([nightclub1,nightclub2,nightclub3])\n",
    "nightclubs.to_csv('nightclubs.csv')"
   ]
  },
  {
   "cell_type": "code",
   "execution_count": 98,
   "metadata": {},
   "outputs": [],
   "source": [
    "myclient = MongoClient(\"mongodb://localhost/\")\n",
    "mydb = myclient[\"datlab\"]\n",
    "mycol = mydb[\"nightclubs\"]"
   ]
  },
  {
   "cell_type": "code",
   "execution_count": 27,
   "metadata": {},
   "outputs": [],
   "source": [
    "db, night = connectCollection('datlab','nightclubs')"
   ]
  },
  {
   "cell_type": "code",
   "execution_count": 31,
   "metadata": {},
   "outputs": [],
   "source": [
    "queryn = list(night.find())"
   ]
  },
  {
   "cell_type": "code",
   "execution_count": 32,
   "metadata": {},
   "outputs": [],
   "source": [
    "for office in queryn:\n",
    "    value = {\"$set\": {'location':getLocation(office)}}\n",
    "    night.update_one(office, value)"
   ]
  },
  {
   "cell_type": "markdown",
   "metadata": {},
   "source": [
    "AIRPORTS"
   ]
  },
  {
   "cell_type": "code",
   "execution_count": 102,
   "metadata": {},
   "outputs": [],
   "source": [
    "air1 = getLocation(searchPlaces('airport San Mateo','37.566879,-122.323895'))\n",
    "air2 = getLocation(searchPlaces('airport Seattle','47.6103008,-122.3399782'))\n",
    "air3 = getLocation(searchPlaces('airport Washington','38.960381,-77.084811'))"
   ]
  },
  {
   "cell_type": "code",
   "execution_count": 104,
   "metadata": {},
   "outputs": [],
   "source": [
    "airp1 = pd.DataFrame(air1)\n",
    "airp2 = pd.DataFrame(air2)\n",
    "airp3 = pd.DataFrame(air3)"
   ]
  },
  {
   "cell_type": "code",
   "execution_count": 109,
   "metadata": {},
   "outputs": [],
   "source": [
    "airports = pd.concat([airp1,airp2,airp3])\n",
    "airports.to_csv('airports.csv')"
   ]
  },
  {
   "cell_type": "code",
   "execution_count": 110,
   "metadata": {},
   "outputs": [],
   "source": [
    "myclient = MongoClient(\"mongodb://localhost/\")\n",
    "mydb = myclient[\"datlab\"]\n",
    "mycol = mydb[\"airports\"]"
   ]
  },
  {
   "cell_type": "code",
   "execution_count": 33,
   "metadata": {},
   "outputs": [],
   "source": [
    "db, air = connectCollection('datlab','airports')"
   ]
  },
  {
   "cell_type": "code",
   "execution_count": 34,
   "metadata": {},
   "outputs": [],
   "source": [
    "querya = list(air.find())"
   ]
  },
  {
   "cell_type": "code",
   "execution_count": 35,
   "metadata": {},
   "outputs": [],
   "source": [
    "for office in querya:\n",
    "    value = {\"$set\": {'location':getLocation(office)}}\n",
    "    air.update_one(office, value)"
   ]
  },
  {
   "cell_type": "markdown",
   "metadata": {},
   "source": [
    "VEGAN RESTAURANTS"
   ]
  },
  {
   "cell_type": "code",
   "execution_count": 111,
   "metadata": {},
   "outputs": [],
   "source": [
    "veg1 = getLocation(searchPlaces('vegan restaurant San Mateo','37.566879,-122.323895'))\n",
    "veg2 = getLocation(searchPlaces('vegan restaurant Seattle','47.6103008,-122.3399782'))\n",
    "veg3 = getLocation(searchPlaces('vegan restaurant Washington','38.960381,-77.084811'))"
   ]
  },
  {
   "cell_type": "code",
   "execution_count": 115,
   "metadata": {},
   "outputs": [],
   "source": [
    "vegan1 = pd.DataFrame(veg1)\n",
    "vegan2 = pd.DataFrame(veg2)\n",
    "vegan3 = pd.DataFrame(veg3)"
   ]
  },
  {
   "cell_type": "code",
   "execution_count": 116,
   "metadata": {},
   "outputs": [],
   "source": [
    "vegans = pd.concat([vegan1,vegan2,vegan3])\n",
    "vegans.to_csv('vegan_restaurants.csv')"
   ]
  },
  {
   "cell_type": "code",
   "execution_count": 117,
   "metadata": {},
   "outputs": [],
   "source": [
    "myclient = MongoClient(\"mongodb://localhost/\")\n",
    "mydb = myclient[\"datlab\"]\n",
    "mycol = mydb[\"vegan_restaurants\"]"
   ]
  },
  {
   "cell_type": "code",
   "execution_count": 36,
   "metadata": {},
   "outputs": [],
   "source": [
    "db, veg = connectCollection('datlab','vegan_restaurants')"
   ]
  },
  {
   "cell_type": "code",
   "execution_count": 37,
   "metadata": {},
   "outputs": [],
   "source": [
    "queryv = list(veg.find())"
   ]
  },
  {
   "cell_type": "code",
   "execution_count": 38,
   "metadata": {},
   "outputs": [],
   "source": [
    "for office in queryv:\n",
    "    value = {\"$set\": {'location':getLocation(office)}}\n",
    "    veg.update_one(office, value)"
   ]
  }
 ],
 "metadata": {
  "kernelspec": {
   "display_name": "Python 3",
   "language": "python",
   "name": "python3"
  },
  "language_info": {
   "codemirror_mode": {
    "name": "ipython",
    "version": 3
   },
   "file_extension": ".py",
   "mimetype": "text/x-python",
   "name": "python",
   "nbconvert_exporter": "python",
   "pygments_lexer": "ipython3",
   "version": "3.7.5rc1"
  }
 },
 "nbformat": 4,
 "nbformat_minor": 2
}
