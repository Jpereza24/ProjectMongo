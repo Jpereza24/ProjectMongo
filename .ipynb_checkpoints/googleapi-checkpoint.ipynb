{
 "cells": [
  {
   "cell_type": "code",
   "execution_count": 2,
   "metadata": {},
   "outputs": [
    {
     "data": {
      "text/plain": [
       "True"
      ]
     },
     "execution_count": 2,
     "metadata": {},
     "output_type": "execute_result"
    }
   ],
   "source": [
    "import googlemaps\n",
    "from datetime import datetime\n",
    "import os\n",
    "from dotenv import load_dotenv\n",
    "load_dotenv()"
   ]
  },
  {
   "cell_type": "code",
   "execution_count": 4,
   "metadata": {},
   "outputs": [],
   "source": [
    "gmaps = googlemaps.Client(key=os.getenv('key'))"
   ]
  },
  {
   "cell_type": "code",
   "execution_count": 21,
   "metadata": {},
   "outputs": [],
   "source": [
    "geocode_result = gmaps.places('Kindergarten Seattle')"
   ]
  },
  {
   "cell_type": "code",
   "execution_count": 22,
   "metadata": {},
   "outputs": [
    {
     "data": {
      "text/plain": [
       "'Northwest Montessori School'"
      ]
     },
     "execution_count": 22,
     "metadata": {},
     "output_type": "execute_result"
    }
   ],
   "source": [
    "geocode_result['results'][0]['name']"
   ]
  },
  {
   "cell_type": "code",
   "execution_count": 23,
   "metadata": {},
   "outputs": [],
   "source": [
    "def getLocation(result):\n",
    "    location = []\n",
    "    for i in range(len(result['results'])):\n",
    "        longitude = result['results'][i]['geometry']['location']['lat']\n",
    "        latitude = result['results'][i]['geometry']['location']['lng']\n",
    "        name = result['results'][i]['name']\n",
    "        loc = {\n",
    "            'name': name,\n",
    "            'type':'Point',\n",
    "            'coordinates':[longitude, latitude]\n",
    "        }\n",
    "        location.append(loc)\n",
    "    return location  "
   ]
  },
  {
   "cell_type": "code",
   "execution_count": 24,
   "metadata": {},
   "outputs": [
    {
     "data": {
      "text/plain": [
       "[{'name': 'Northwest Montessori School',\n",
       "  'type': 'Point',\n",
       "  'coordinates': [47.6822691, -122.3003222]},\n",
       " {'name': 'Wood Kindergarten',\n",
       "  'type': 'Point',\n",
       "  'coordinates': [47.624478, -122.313319]},\n",
       " {'name': 'Spanish Immersion Educational Center',\n",
       "  'type': 'Point',\n",
       "  'coordinates': [47.5502097, -122.3633064]},\n",
       " {'name': 'North Shorewood Kindergarten',\n",
       "  'type': 'Point',\n",
       "  'coordinates': [47.51370970000001, -122.3679041]},\n",
       " {'name': 'Harvard Avenue School',\n",
       "  'type': 'Point',\n",
       "  'coordinates': [47.6200516, -122.3225003]},\n",
       " {'name': 'Kiddie Academy of Seattle at Queen Anne',\n",
       "  'type': 'Point',\n",
       "  'coordinates': [47.6260765, -122.3445958]},\n",
       " {'name': 'Seattle Waldorf School - Kinderhaus',\n",
       "  'type': 'Point',\n",
       "  'coordinates': [47.6648011, -122.3397931]},\n",
       " {'name': 'Seattle Amistad School',\n",
       "  'type': 'Point',\n",
       "  'coordinates': [47.6162119, -122.3077077]},\n",
       " {'name': 'Huckleberry Forest Preschool of the Arts and Science',\n",
       "  'type': 'Point',\n",
       "  'coordinates': [47.66207420000001, -122.3192747]},\n",
       " {'name': 'Daniel Bagley Elementary School',\n",
       "  'type': 'Point',\n",
       "  'coordinates': [47.6772225, -122.3223546]},\n",
       " {'name': 'Tiny Trees Preschool',\n",
       "  'type': 'Point',\n",
       "  'coordinates': [47.6005389, -122.3311757]},\n",
       " {'name': 'Seattle’s Progressive Preschool',\n",
       "  'type': 'Point',\n",
       "  'coordinates': [47.6229919, -122.290606]},\n",
       " {'name': 'Seattle Waldorf School',\n",
       "  'type': 'Point',\n",
       "  'coordinates': [47.7016219, -122.2973358]},\n",
       " {'name': 'Seattle Creative Kids Preschool',\n",
       "  'type': 'Point',\n",
       "  'coordinates': [47.696486, -122.3151482]},\n",
       " {'name': 'Tops K-8 School',\n",
       "  'type': 'Point',\n",
       "  'coordinates': [47.6425198, -122.324146]},\n",
       " {'name': 'Matheia School',\n",
       "  'type': 'Point',\n",
       "  'coordinates': [47.6774734, -122.3846273]},\n",
       " {'name': \"Children's Workshop Preschool\",\n",
       "  'type': 'Point',\n",
       "  'coordinates': [47.63106759999999, -122.3602311]},\n",
       " {'name': 'Montessori School of Seattle',\n",
       "  'type': 'Point',\n",
       "  'coordinates': [47.6258461, -122.3082053]},\n",
       " {'name': 'Pathfinder K-8 School',\n",
       "  'type': 'Point',\n",
       "  'coordinates': [47.5626567, -122.3579438]},\n",
       " {'name': 'Little Laurels Montessori Preschool',\n",
       "  'type': 'Point',\n",
       "  'coordinates': [47.721139, -122.2903253]}]"
      ]
     },
     "execution_count": 24,
     "metadata": {},
     "output_type": "execute_result"
    }
   ],
   "source": [
    "getLocation(geocode_result)"
   ]
  },
  {
   "cell_type": "code",
   "execution_count": null,
   "metadata": {},
   "outputs": [],
   "source": []
  }
 ],
 "metadata": {
  "kernelspec": {
   "display_name": "Python 3",
   "language": "python",
   "name": "python3"
  },
  "language_info": {
   "codemirror_mode": {
    "name": "ipython",
    "version": 3
   },
   "file_extension": ".py",
   "mimetype": "text/x-python",
   "name": "python",
   "nbconvert_exporter": "python",
   "pygments_lexer": "ipython3",
   "version": "3.7.5rc1"
  }
 },
 "nbformat": 4,
 "nbformat_minor": 2
}
