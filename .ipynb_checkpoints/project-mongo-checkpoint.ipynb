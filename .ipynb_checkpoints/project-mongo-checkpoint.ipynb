{
 "cells": [
  {
   "cell_type": "code",
   "execution_count": 101,
   "metadata": {},
   "outputs": [],
   "source": [
    "from pymongo import MongoClient\n",
    "import folium\n",
    "import pandas as pd"
   ]
  },
  {
   "cell_type": "code",
   "execution_count": 102,
   "metadata": {},
   "outputs": [],
   "source": [
    "def connectCollection(database, collection):\n",
    "    client = MongoClient()\n",
    "    db = client[database]\n",
    "    coll = db[collection]\n",
    "    return db, coll"
   ]
  },
  {
   "cell_type": "code",
   "execution_count": 103,
   "metadata": {},
   "outputs": [],
   "source": [
    "db, coll = connectCollection('datlab','companies')"
   ]
  },
  {
   "cell_type": "code",
   "execution_count": 127,
   "metadata": {},
   "outputs": [],
   "source": [
    "pipeline = [{'$unwind':'$offices'},\n",
    "        {'$match':{'$and':[{\"offices.country_code\":'USA'},{\"funding_rounds.raised_amount\":{'$gte':1000000}},{'deadpooled_year':None},{'founded_year':{'$gte': 2008}}]}}]\n",
    "query = list(coll.aggregate(pipeline))"
   ]
  },
  {
   "cell_type": "code",
   "execution_count": 129,
   "metadata": {},
   "outputs": [],
   "source": [
    "df = pd.DataFrame(query)"
   ]
  },
  {
   "cell_type": "code",
   "execution_count": 131,
   "metadata": {},
   "outputs": [],
   "source": [
    "data = df['offices']"
   ]
  },
  {
   "cell_type": "code",
   "execution_count": 132,
   "metadata": {},
   "outputs": [],
   "source": [
    "latitude = []\n",
    "\n",
    "for key,value in data.items():\n",
    "    latitude.append(value['latitude'])"
   ]
  },
  {
   "cell_type": "code",
   "execution_count": 134,
   "metadata": {},
   "outputs": [],
   "source": [
    "longitude = []\n",
    "\n",
    "for key, value in data.items():\n",
    "    longitude.append(value['longitude'])"
   ]
  },
  {
   "cell_type": "code",
   "execution_count": 136,
   "metadata": {},
   "outputs": [
    {
     "data": {
      "text/plain": [
       "361"
      ]
     },
     "execution_count": 136,
     "metadata": {},
     "output_type": "execute_result"
    }
   ],
   "source": []
  },
  {
   "cell_type": "code",
   "execution_count": 106,
   "metadata": {},
   "outputs": [],
   "source": [
    "coleliminar = ['permalink','crunchbase_url','created_at','products','funding_rounds','acquisition','acquisitions','homepage_url','blog_url', 'blog_feed_url','twitter_username','video_embeds','screenshots','external_links','partners','founded_month','founded_day','deadpooled_year','deadpooled_month','deadpooled_day','competitions','providerships','investments', 'milestones','ipo','deadpooled_url','tag_list','alias_list','email_address','phone_number','updated_at','image','overview','relationships', 'location']\n",
    "df = df.drop(coleliminar, axis=1)\n"
   ]
  },
  {
   "cell_type": "code",
   "execution_count": null,
   "metadata": {},
   "outputs": [],
   "source": []
  },
  {
   "cell_type": "code",
   "execution_count": null,
   "metadata": {},
   "outputs": [],
   "source": []
  },
  {
   "cell_type": "code",
   "execution_count": 125,
   "metadata": {},
   "outputs": [
    {
     "data": {
      "text/html": [
       "<div>\n",
       "<style scoped>\n",
       "    .dataframe tbody tr th:only-of-type {\n",
       "        vertical-align: middle;\n",
       "    }\n",
       "\n",
       "    .dataframe tbody tr th {\n",
       "        vertical-align: top;\n",
       "    }\n",
       "\n",
       "    .dataframe thead th {\n",
       "        text-align: right;\n",
       "    }\n",
       "</style>\n",
       "<table border=\"1\" class=\"dataframe\">\n",
       "  <thead>\n",
       "    <tr style=\"text-align: right;\">\n",
       "      <th></th>\n",
       "      <th>_id</th>\n",
       "      <th>name</th>\n",
       "      <th>category_code</th>\n",
       "      <th>number_of_employees</th>\n",
       "      <th>founded_year</th>\n",
       "      <th>description</th>\n",
       "      <th>total_money_raised</th>\n",
       "      <th>offices</th>\n",
       "    </tr>\n",
       "  </thead>\n",
       "  <tbody>\n",
       "    <tr>\n",
       "      <th>0</th>\n",
       "      <td>52cdef7c4bab8bd675297e30</td>\n",
       "      <td>GoingOn</td>\n",
       "      <td>software</td>\n",
       "      <td>40.0</td>\n",
       "      <td>2008</td>\n",
       "      <td>Private Academic Networks</td>\n",
       "      <td>$8.5M</td>\n",
       "      <td>[{'description': 'GoingOn Networks, Inc.', 'ad...</td>\n",
       "    </tr>\n",
       "    <tr>\n",
       "      <th>1</th>\n",
       "      <td>52cdef7c4bab8bd675297ee1</td>\n",
       "      <td>Cloudant</td>\n",
       "      <td>enterprise</td>\n",
       "      <td>70.0</td>\n",
       "      <td>2008</td>\n",
       "      <td>NoSQL database managed service</td>\n",
       "      <td>$18.3M</td>\n",
       "      <td>[{'description': '', 'address1': '129 South St...</td>\n",
       "    </tr>\n",
       "    <tr>\n",
       "      <th>2</th>\n",
       "      <td>52cdef7c4bab8bd675297f76</td>\n",
       "      <td>Crunchyroll</td>\n",
       "      <td>games_video</td>\n",
       "      <td>50.0</td>\n",
       "      <td>2008</td>\n",
       "      <td>Digital Entertainment and Media Platform</td>\n",
       "      <td>$4.8M</td>\n",
       "      <td>[{'description': '', 'address1': '', 'address2...</td>\n",
       "    </tr>\n",
       "    <tr>\n",
       "      <th>3</th>\n",
       "      <td>52cdef7c4bab8bd675297f94</td>\n",
       "      <td>PeekYou</td>\n",
       "      <td>search</td>\n",
       "      <td>20.0</td>\n",
       "      <td>2012</td>\n",
       "      <td></td>\n",
       "      <td>$1.83M</td>\n",
       "      <td>[{'description': None, 'address1': None, 'addr...</td>\n",
       "    </tr>\n",
       "    <tr>\n",
       "      <th>4</th>\n",
       "      <td>52cdef7c4bab8bd675297f9e</td>\n",
       "      <td>GENWI</td>\n",
       "      <td>mobile</td>\n",
       "      <td>25.0</td>\n",
       "      <td>2010</td>\n",
       "      <td>Cloud Publishing for Mobile</td>\n",
       "      <td>$7.1M</td>\n",
       "      <td>[{'description': '', 'address1': '4966 El Cami...</td>\n",
       "    </tr>\n",
       "    <tr>\n",
       "      <th>...</th>\n",
       "      <td>...</td>\n",
       "      <td>...</td>\n",
       "      <td>...</td>\n",
       "      <td>...</td>\n",
       "      <td>...</td>\n",
       "      <td>...</td>\n",
       "      <td>...</td>\n",
       "      <td>...</td>\n",
       "    </tr>\n",
       "    <tr>\n",
       "      <th>190</th>\n",
       "      <td>52cdef7f4bab8bd67529c477</td>\n",
       "      <td>Testplant</td>\n",
       "      <td>software</td>\n",
       "      <td>50.0</td>\n",
       "      <td>2008</td>\n",
       "      <td>GUI test tool</td>\n",
       "      <td>$2.56M</td>\n",
       "      <td>[{'description': 'TestPlant', 'address1': '6 S...</td>\n",
       "    </tr>\n",
       "    <tr>\n",
       "      <th>191</th>\n",
       "      <td>52cdef7f4bab8bd67529c4c1</td>\n",
       "      <td>Homesnap</td>\n",
       "      <td>analytics</td>\n",
       "      <td>18.0</td>\n",
       "      <td>2008</td>\n",
       "      <td>online real estate broker</td>\n",
       "      <td>$5.5M</td>\n",
       "      <td>[{'description': 'HQ', 'address1': '5335 Wisco...</td>\n",
       "    </tr>\n",
       "    <tr>\n",
       "      <th>192</th>\n",
       "      <td>52cdef7f4bab8bd67529c4f0</td>\n",
       "      <td>Culture Jam</td>\n",
       "      <td>web</td>\n",
       "      <td>15.0</td>\n",
       "      <td>2008</td>\n",
       "      <td>Innovative Social Media Technology</td>\n",
       "      <td>$1.7M</td>\n",
       "      <td>[{'description': '', 'address1': '2434 Lincoln...</td>\n",
       "    </tr>\n",
       "    <tr>\n",
       "      <th>193</th>\n",
       "      <td>52cdef7f4bab8bd67529c5b8</td>\n",
       "      <td>Continuity Engine</td>\n",
       "      <td>software</td>\n",
       "      <td>11.0</td>\n",
       "      <td>2008</td>\n",
       "      <td>Crowdsource Banking</td>\n",
       "      <td>$7.84M</td>\n",
       "      <td>[{'description': 'HQ', 'address1': '150 Munson...</td>\n",
       "    </tr>\n",
       "    <tr>\n",
       "      <th>194</th>\n",
       "      <td>52cdef7f4bab8bd67529c6a0</td>\n",
       "      <td>Jelli</td>\n",
       "      <td>enterprise</td>\n",
       "      <td>12.0</td>\n",
       "      <td>2008</td>\n",
       "      <td>User-controlled radio</td>\n",
       "      <td>$16.6M</td>\n",
       "      <td>[{'description': 'Jelli, Inc.', 'address1': '4...</td>\n",
       "    </tr>\n",
       "  </tbody>\n",
       "</table>\n",
       "<p>195 rows × 8 columns</p>\n",
       "</div>"
      ],
      "text/plain": [
       "                          _id               name category_code  \\\n",
       "0    52cdef7c4bab8bd675297e30            GoingOn      software   \n",
       "1    52cdef7c4bab8bd675297ee1           Cloudant    enterprise   \n",
       "2    52cdef7c4bab8bd675297f76        Crunchyroll   games_video   \n",
       "3    52cdef7c4bab8bd675297f94            PeekYou        search   \n",
       "4    52cdef7c4bab8bd675297f9e              GENWI        mobile   \n",
       "..                        ...                ...           ...   \n",
       "190  52cdef7f4bab8bd67529c477          Testplant      software   \n",
       "191  52cdef7f4bab8bd67529c4c1           Homesnap     analytics   \n",
       "192  52cdef7f4bab8bd67529c4f0        Culture Jam           web   \n",
       "193  52cdef7f4bab8bd67529c5b8  Continuity Engine      software   \n",
       "194  52cdef7f4bab8bd67529c6a0              Jelli    enterprise   \n",
       "\n",
       "     number_of_employees  founded_year  \\\n",
       "0                   40.0          2008   \n",
       "1                   70.0          2008   \n",
       "2                   50.0          2008   \n",
       "3                   20.0          2012   \n",
       "4                   25.0          2010   \n",
       "..                   ...           ...   \n",
       "190                 50.0          2008   \n",
       "191                 18.0          2008   \n",
       "192                 15.0          2008   \n",
       "193                 11.0          2008   \n",
       "194                 12.0          2008   \n",
       "\n",
       "                                  description total_money_raised  \\\n",
       "0                   Private Academic Networks              $8.5M   \n",
       "1              NoSQL database managed service             $18.3M   \n",
       "2    Digital Entertainment and Media Platform              $4.8M   \n",
       "3                                                         $1.83M   \n",
       "4                 Cloud Publishing for Mobile              $7.1M   \n",
       "..                                        ...                ...   \n",
       "190                             GUI test tool             $2.56M   \n",
       "191                 online real estate broker              $5.5M   \n",
       "192       Innovative Social Media Technology               $1.7M   \n",
       "193                       Crowdsource Banking             $7.84M   \n",
       "194                     User-controlled radio             $16.6M   \n",
       "\n",
       "                                               offices  \n",
       "0    [{'description': 'GoingOn Networks, Inc.', 'ad...  \n",
       "1    [{'description': '', 'address1': '129 South St...  \n",
       "2    [{'description': '', 'address1': '', 'address2...  \n",
       "3    [{'description': None, 'address1': None, 'addr...  \n",
       "4    [{'description': '', 'address1': '4966 El Cami...  \n",
       "..                                                 ...  \n",
       "190  [{'description': 'TestPlant', 'address1': '6 S...  \n",
       "191  [{'description': 'HQ', 'address1': '5335 Wisco...  \n",
       "192  [{'description': '', 'address1': '2434 Lincoln...  \n",
       "193  [{'description': 'HQ', 'address1': '150 Munson...  \n",
       "194  [{'description': 'Jelli, Inc.', 'address1': '4...  \n",
       "\n",
       "[195 rows x 8 columns]"
      ]
     },
     "execution_count": 125,
     "metadata": {},
     "output_type": "execute_result"
    }
   ],
   "source": [
    "df"
   ]
  },
  {
   "cell_type": "code",
   "execution_count": 124,
   "metadata": {},
   "outputs": [
    {
     "data": {
      "text/plain": [
       "0      [{'description': 'GoingOn Networks, Inc.', 'ad...\n",
       "1      [{'description': '', 'address1': '129 South St...\n",
       "2      [{'description': '', 'address1': '', 'address2...\n",
       "3      [{'description': None, 'address1': None, 'addr...\n",
       "4      [{'description': '', 'address1': '4966 El Cami...\n",
       "                             ...                        \n",
       "190    [{'description': 'TestPlant', 'address1': '6 S...\n",
       "191    [{'description': 'HQ', 'address1': '5335 Wisco...\n",
       "192    [{'description': '', 'address1': '2434 Lincoln...\n",
       "193    [{'description': 'HQ', 'address1': '150 Munson...\n",
       "194    [{'description': 'Jelli, Inc.', 'address1': '4...\n",
       "Name: offices, Length: 195, dtype: object"
      ]
     },
     "execution_count": 124,
     "metadata": {},
     "output_type": "execute_result"
    }
   ],
   "source": [
    "offices"
   ]
  },
  {
   "cell_type": "code",
   "execution_count": 122,
   "metadata": {},
   "outputs": [],
   "source": [
    "latitude = []\n",
    "\n",
    "for lista in offices:\n",
    "    for i in range(len(offices)):\n",
    "        for key,value in offices.items():\n",
    "            if key == 'latitude':\n",
    "                latitude.append(key['latitude'])"
   ]
  },
  {
   "cell_type": "code",
   "execution_count": 123,
   "metadata": {},
   "outputs": [
    {
     "data": {
      "text/plain": [
       "[]"
      ]
     },
     "execution_count": 123,
     "metadata": {},
     "output_type": "execute_result"
    }
   ],
   "source": [
    "latitude"
   ]
  },
  {
   "cell_type": "code",
   "execution_count": null,
   "metadata": {},
   "outputs": [],
   "source": []
  },
  {
   "cell_type": "code",
   "execution_count": null,
   "metadata": {},
   "outputs": [],
   "source": []
  },
  {
   "cell_type": "code",
   "execution_count": 74,
   "metadata": {},
   "outputs": [],
   "source": [
    "df.to_csv('filtered_companies.csv')"
   ]
  },
  {
   "cell_type": "code",
   "execution_count": 75,
   "metadata": {},
   "outputs": [],
   "source": [
    "myclient = MongoClient(\"mongodb://localhost/\")\n",
    "mydb = myclient[\"datlab\"]\n",
    "mycol = mydb[\"filtered_companies\"]"
   ]
  },
  {
   "cell_type": "code",
   "execution_count": null,
   "metadata": {},
   "outputs": [],
   "source": []
  },
  {
   "cell_type": "code",
   "execution_count": null,
   "metadata": {},
   "outputs": [],
   "source": []
  },
  {
   "cell_type": "code",
   "execution_count": 16,
   "metadata": {},
   "outputs": [],
   "source": [
    "map_city=folium.Map(location=[40.7221,-73.9712], zoom_start=12)\n"
   ]
  },
  {
   "cell_type": "code",
   "execution_count": 17,
   "metadata": {},
   "outputs": [],
   "source": [
    "for company in query:\n",
    "    for i in range(len(company['location'])):\n",
    "        folium.Marker(company['location'][i]['coordinates'][::-1],\n",
    "                        radius=2,\n",
    "                        icon=folium.Icon(icon='cloud',color='red'), \n",
    "                       ).add_to(map_city)"
   ]
  },
  {
   "cell_type": "code",
   "execution_count": null,
   "metadata": {},
   "outputs": [],
   "source": []
  },
  {
   "cell_type": "code",
   "execution_count": null,
   "metadata": {},
   "outputs": [],
   "source": []
  },
  {
   "cell_type": "code",
   "execution_count": null,
   "metadata": {},
   "outputs": [],
   "source": []
  },
  {
   "cell_type": "code",
   "execution_count": null,
   "metadata": {},
   "outputs": [],
   "source": []
  },
  {
   "cell_type": "code",
   "execution_count": null,
   "metadata": {},
   "outputs": [],
   "source": []
  },
  {
   "cell_type": "code",
   "execution_count": null,
   "metadata": {},
   "outputs": [],
   "source": []
  },
  {
   "cell_type": "code",
   "execution_count": null,
   "metadata": {},
   "outputs": [],
   "source": []
  },
  {
   "cell_type": "code",
   "execution_count": null,
   "metadata": {},
   "outputs": [],
   "source": []
  },
  {
   "cell_type": "code",
   "execution_count": null,
   "metadata": {},
   "outputs": [],
   "source": []
  },
  {
   "cell_type": "code",
   "execution_count": null,
   "metadata": {},
   "outputs": [],
   "source": []
  },
  {
   "cell_type": "code",
   "execution_count": null,
   "metadata": {},
   "outputs": [],
   "source": []
  },
  {
   "cell_type": "code",
   "execution_count": null,
   "metadata": {},
   "outputs": [],
   "source": []
  },
  {
   "cell_type": "code",
   "execution_count": null,
   "metadata": {},
   "outputs": [],
   "source": []
  }
 ],
 "metadata": {
  "kernelspec": {
   "display_name": "Python 3",
   "language": "python",
   "name": "python3"
  },
  "language_info": {
   "codemirror_mode": {
    "name": "ipython",
    "version": 3
   },
   "file_extension": ".py",
   "mimetype": "text/x-python",
   "name": "python",
   "nbconvert_exporter": "python",
   "pygments_lexer": "ipython3",
   "version": "3.7.5rc1"
  }
 },
 "nbformat": 4,
 "nbformat_minor": 2
}
