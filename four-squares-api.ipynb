{
 "cells": [
  {
   "cell_type": "code",
   "execution_count": 6,
   "metadata": {},
   "outputs": [
    {
     "data": {
      "text/plain": [
       "True"
      ]
     },
     "execution_count": 6,
     "metadata": {},
     "output_type": "execute_result"
    }
   ],
   "source": [
    "import json\n",
    "import requests\n",
    "import sys\n",
    "import os\n",
    "from dotenv import load_dotenv\n",
    "load_dotenv()\n",
    "\n"
   ]
  },
  {
   "cell_type": "code",
   "execution_count": 7,
   "metadata": {},
   "outputs": [],
   "source": [
    "def requestfoursquare(query):\n",
    "    url = 'https://api.foursquare.com/v2/venues/explore'\n",
    "    params = dict(\n",
    "      client_id=os.getenv(\"CLIENT_ID\"),\n",
    "      client_secret=os.getenv(\"FOUR_SQUARES_TOKEN\"),\n",
    "      v='20180323',\n",
    "      ll='40.7243,-74.0018',\n",
    "      query=query,\n",
    "      limit=200\n",
    "    )\n",
    "    res = requests.get(url=url, params=params)\n",
    "    data = json.loads(res.text)\n",
    "    return data"
   ]
  },
  {
   "cell_type": "code",
   "execution_count": 9,
   "metadata": {},
   "outputs": [],
   "source": [
    "starbucks = requestfoursquare('starbucks')"
   ]
  },
  {
   "cell_type": "code",
   "execution_count": 29,
   "metadata": {},
   "outputs": [],
   "source": [
    "def listLocation(data):\n",
    "    locationslist = []\n",
    "    for i in range(len(data['response']['groups'][0]['items'])):\n",
    "        latitude = float((data['response']['groups'][0]['items'][i]['venue'].get('location')).get('lat'))\n",
    "        longitude = float((data['response']['groups'][0]['items'][i]['venue'].get('location')).get('lng'))\n",
    "        dictio = {\n",
    "            'name':(data['response']['groups'][0]['items'][i]['venue']).get('name'),\n",
    "            'loc':{'type':'Point','coordinates':[longitude,latitude]}            \n",
    "            }\n",
    "        locationslist.append(dictio)\n",
    "    return locationslist"
   ]
  },
  {
   "cell_type": "code",
   "execution_count": 31,
   "metadata": {},
   "outputs": [
    {
     "data": {
      "text/plain": [
       "[{'name': 'Chipotle Mexican Grill',\n",
       "  'loc': {'type': 'Point', 'coordinates': [-74.005063, 40.728274]}},\n",
       " {'name': 'Tada! Theatre',\n",
       "  'loc': {'type': 'Point',\n",
       "   'coordinates': [-73.98815083551503, 40.74512371133894]}},\n",
       " {'name': 'Zeppelin Hall Biergarten',\n",
       "  'loc': {'type': 'Point',\n",
       "   'coordinates': [-74.04663251878307, 40.715148542684354]}},\n",
       " {'name': 'Megabus Terminal - W 34th St & 11 Av',\n",
       "  'loc': {'type': 'Point',\n",
       "   'coordinates': [-74.00287628173828, 40.75606726747608]}},\n",
       " {'name': 'Kradle 2 Kindergarten',\n",
       "  'loc': {'type': 'Point',\n",
       "   'coordinates': [-74.2991316318512, 41.13183195799727]}}]"
      ]
     },
     "execution_count": 31,
     "metadata": {},
     "output_type": "execute_result"
    }
   ],
   "source": [
    "listLocation(requestfoursquare(''))"
   ]
  },
  {
   "cell_type": "code",
   "execution_count": null,
   "metadata": {},
   "outputs": [],
   "source": []
  },
  {
   "cell_type": "code",
   "execution_count": null,
   "metadata": {},
   "outputs": [],
   "source": []
  },
  {
   "cell_type": "code",
   "execution_count": null,
   "metadata": {},
   "outputs": [],
   "source": []
  }
 ],
 "metadata": {
  "kernelspec": {
   "display_name": "Python 3",
   "language": "python",
   "name": "python3"
  },
  "language_info": {
   "codemirror_mode": {
    "name": "ipython",
    "version": 3
   },
   "file_extension": ".py",
   "mimetype": "text/x-python",
   "name": "python",
   "nbconvert_exporter": "python",
   "pygments_lexer": "ipython3",
   "version": "3.7.5rc1"
  }
 },
 "nbformat": 4,
 "nbformat_minor": 2
}
